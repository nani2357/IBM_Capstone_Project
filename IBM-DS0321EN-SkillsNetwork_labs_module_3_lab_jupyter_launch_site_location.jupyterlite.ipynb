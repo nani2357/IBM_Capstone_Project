{
  "metadata": {
    "language_info": {
      "codemirror_mode": {
        "name": "python",
        "version": 3
      },
      "file_extension": ".py",
      "mimetype": "text/x-python",
      "name": "python",
      "nbconvert_exporter": "python",
      "pygments_lexer": "ipython3",
      "version": "3.8"
    },
    "kernelspec": {
      "name": "python",
      "display_name": "Pyolite",
      "language": "python"
    }
  },
  "nbformat_minor": 4,
  "nbformat": 4,
  "cells": [
    {
      "cell_type": "markdown",
      "source": "<p style=\"text-align:center\">\n    <a href=\"https://skills.network/?utm_medium=Exinfluencer&utm_source=Exinfluencer&utm_content=000026UJ&utm_term=10006555&utm_id=NA-SkillsNetwork-Channel-SkillsNetworkCoursesIBMDS0321ENSkillsNetwork26802033-2022-01-01\" target=\"_blank\">\n    <img src=\"https://cf-courses-data.s3.us.cloud-object-storage.appdomain.cloud/assets/logos/SN_web_lightmode.png\" width=\"200\" alt=\"Skills Network Logo\"  />\n    </a>\n</p>\n",
      "metadata": {}
    },
    {
      "cell_type": "markdown",
      "source": "# **Launch Sites Locations Analysis with Folium**\n",
      "metadata": {}
    },
    {
      "cell_type": "markdown",
      "source": "Estimated time needed: **40** minutes\n",
      "metadata": {}
    },
    {
      "cell_type": "markdown",
      "source": "The launch success rate may depend on many factors such as payload mass, orbit type, and so on. It may also depend on the location and proximities of a launch site, i.e., the initial position of rocket trajectories. Finding an optimal location for building a launch site certainly involves many factors and hopefully we could discover some of the factors by analyzing the existing launch site locations.\n",
      "metadata": {}
    },
    {
      "cell_type": "markdown",
      "source": "In the previous exploratory data analysis labs, you have visualized the SpaceX launch dataset using `matplotlib` and `seaborn` and discovered some preliminary correlations between the launch site and success rates. In this lab, you will be performing more interactive visual analytics using `Folium`.\n",
      "metadata": {}
    },
    {
      "cell_type": "markdown",
      "source": "## Objectives\n",
      "metadata": {}
    },
    {
      "cell_type": "markdown",
      "source": "This lab contains the following tasks:\n\n*   **TASK 1:** Mark all launch sites on a map\n*   **TASK 2:** Mark the success/failed launches for each site on the map\n*   **TASK 3:** Calculate the distances between a launch site to its proximities\n\nAfter completed the above tasks, you should be able to find some geographical patterns about launch sites.\n",
      "metadata": {}
    },
    {
      "cell_type": "markdown",
      "source": "Let's first import required Python packages for this lab:\n",
      "metadata": {}
    },
    {
      "cell_type": "code",
      "source": "import piplite\nawait piplite.install(['folium'])\nawait piplite.install(['pandas'])",
      "metadata": {
        "trusted": true
      },
      "execution_count": 1,
      "outputs": []
    },
    {
      "cell_type": "code",
      "source": "import folium\nimport pandas as pd",
      "metadata": {
        "trusted": true
      },
      "execution_count": 2,
      "outputs": []
    },
    {
      "cell_type": "code",
      "source": "# Import folium MarkerCluster plugin\nfrom folium.plugins import MarkerCluster\n# Import folium MousePosition plugin\nfrom folium.plugins import MousePosition\n# Import folium DivIcon plugin\nfrom folium.features import DivIcon",
      "metadata": {
        "trusted": true
      },
      "execution_count": 3,
      "outputs": []
    },
    {
      "cell_type": "markdown",
      "source": "If you need to refresh your memory about folium, you may download and refer to this previous folium lab:\n",
      "metadata": {}
    },
    {
      "cell_type": "markdown",
      "source": "[Generating Maps with Python](https://cf-courses-data.s3.us.cloud-object-storage.appdomain.cloud/IBM-DS0321EN-SkillsNetwork/labs/module\\_3/DV0101EN-3-5-1-Generating-Maps-in-Python-py-v2.0.ipynb)\n",
      "metadata": {}
    },
    {
      "cell_type": "code",
      "source": "## Task 1: Mark all launch sites on a map\n",
      "metadata": {
        "trusted": true
      },
      "execution_count": 4,
      "outputs": []
    },
    {
      "cell_type": "markdown",
      "source": "First, let's try to add each site's location on a map using site's latitude and longitude coordinates\n",
      "metadata": {}
    },
    {
      "cell_type": "markdown",
      "source": "The following dataset with the name `spacex_launch_geo.csv` is an augmented dataset with latitude and longitude added for each site.\n",
      "metadata": {}
    },
    {
      "cell_type": "code",
      "source": "# Download and read the `spacex_launch_geo.csv`\nfrom js import fetch\nimport io\n\nURL = 'https://cf-courses-data.s3.us.cloud-object-storage.appdomain.cloud/IBM-DS0321EN-SkillsNetwork/datasets/spacex_launch_geo.csv'\nresp = await fetch(URL)\nspacex_csv_file = io.BytesIO((await resp.arrayBuffer()).to_py())\nspacex_df=pd.read_csv(spacex_csv_file)",
      "metadata": {
        "trusted": true
      },
      "execution_count": 5,
      "outputs": []
    },
    {
      "cell_type": "markdown",
      "source": "Now, you can take a look at what are the coordinates for each site.\n",
      "metadata": {}
    },
    {
      "cell_type": "code",
      "source": "# Select relevant sub-columns: `Launch Site`, `Lat(Latitude)`, `Long(Longitude)`, `class`\nspacex_df = spacex_df[['Launch Site', 'Lat', 'Long', 'class']]\nlaunch_sites_df = spacex_df.groupby(['Launch Site'], as_index=False).first()\nlaunch_sites_df = launch_sites_df[['Launch Site', 'Lat', 'Long']]\nlaunch_sites_df.columns",
      "metadata": {
        "trusted": true
      },
      "execution_count": 23,
      "outputs": [
        {
          "execution_count": 23,
          "output_type": "execute_result",
          "data": {
            "text/plain": "Index(['Launch Site', 'Lat', 'Long'], dtype='object')"
          },
          "metadata": {}
        }
      ]
    },
    {
      "cell_type": "code",
      "source": "map = folium.Map(location=[launch_sites_df['Lat'][0], launch_sites_df['Long'][0]], zoom_start=4)\n\n\nfor index, site in launch_sites_df.iterrows():\n    folium.Marker(location=[site['Lat'], site['Long']], popup=site['Launch Site']).add_to(map)\n\n\nmap",
      "metadata": {
        "trusted": true
      },
      "execution_count": 24,
      "outputs": [
        {
          "execution_count": 24,
          "output_type": "execute_result",
          "data": {
            "text/plain": "<folium.folium.Map at 0x4655788>",
            "text/html": "<div style=\"width:100%;\"><div style=\"position:relative;width:100%;height:0;padding-bottom:60%;\"><span style=\"color:#565656\">Make this Notebook Trusted to load map: File -> Trust Notebook</span><iframe srcdoc=\"&lt;!DOCTYPE html&gt;\n&lt;html&gt;\n&lt;head&gt;\n    \n    &lt;meta http-equiv=&quot;content-type&quot; content=&quot;text/html; charset=UTF-8&quot; /&gt;\n    \n        &lt;script&gt;\n            L_NO_TOUCH = false;\n            L_DISABLE_3D = false;\n        &lt;/script&gt;\n    \n    &lt;style&gt;html, body {width: 100%;height: 100%;margin: 0;padding: 0;}&lt;/style&gt;\n    &lt;style&gt;#map {position:absolute;top:0;bottom:0;right:0;left:0;}&lt;/style&gt;\n    &lt;script src=&quot;https://cdn.jsdelivr.net/npm/leaflet@1.9.3/dist/leaflet.js&quot;&gt;&lt;/script&gt;\n    &lt;script src=&quot;https://code.jquery.com/jquery-1.12.4.min.js&quot;&gt;&lt;/script&gt;\n    &lt;script src=&quot;https://cdn.jsdelivr.net/npm/bootstrap@5.2.2/dist/js/bootstrap.bundle.min.js&quot;&gt;&lt;/script&gt;\n    &lt;script src=&quot;https://cdnjs.cloudflare.com/ajax/libs/Leaflet.awesome-markers/2.0.2/leaflet.awesome-markers.js&quot;&gt;&lt;/script&gt;\n    &lt;link rel=&quot;stylesheet&quot; href=&quot;https://cdn.jsdelivr.net/npm/leaflet@1.9.3/dist/leaflet.css&quot;/&gt;\n    &lt;link rel=&quot;stylesheet&quot; href=&quot;https://cdn.jsdelivr.net/npm/bootstrap@5.2.2/dist/css/bootstrap.min.css&quot;/&gt;\n    &lt;link rel=&quot;stylesheet&quot; href=&quot;https://netdna.bootstrapcdn.com/bootstrap/3.0.0/css/bootstrap.min.css&quot;/&gt;\n    &lt;link rel=&quot;stylesheet&quot; href=&quot;https://cdn.jsdelivr.net/npm/@fortawesome/fontawesome-free@6.2.0/css/all.min.css&quot;/&gt;\n    &lt;link rel=&quot;stylesheet&quot; href=&quot;https://cdnjs.cloudflare.com/ajax/libs/Leaflet.awesome-markers/2.0.2/leaflet.awesome-markers.css&quot;/&gt;\n    &lt;link rel=&quot;stylesheet&quot; href=&quot;https://cdn.jsdelivr.net/gh/python-visualization/folium/folium/templates/leaflet.awesome.rotate.min.css&quot;/&gt;\n    \n            &lt;meta name=&quot;viewport&quot; content=&quot;width=device-width,\n                initial-scale=1.0, maximum-scale=1.0, user-scalable=no&quot; /&gt;\n            &lt;style&gt;\n                #map_a25f87e923fb0df75b9f2d5070d5e2be {\n                    position: relative;\n                    width: 100.0%;\n                    height: 100.0%;\n                    left: 0.0%;\n                    top: 0.0%;\n                }\n                .leaflet-container { font-size: 1rem; }\n            &lt;/style&gt;\n        \n&lt;/head&gt;\n&lt;body&gt;\n    \n    \n            &lt;div class=&quot;folium-map&quot; id=&quot;map_a25f87e923fb0df75b9f2d5070d5e2be&quot; &gt;&lt;/div&gt;\n        \n&lt;/body&gt;\n&lt;script&gt;\n    \n    \n            var map_a25f87e923fb0df75b9f2d5070d5e2be = L.map(\n                &quot;map_a25f87e923fb0df75b9f2d5070d5e2be&quot;,\n                {\n                    center: [28.56230197, -80.57735648],\n                    crs: L.CRS.EPSG3857,\n                    zoom: 4,\n                    zoomControl: true,\n                    preferCanvas: false,\n                }\n            );\n\n            \n\n        \n    \n            var tile_layer_ae63191fcd12addf0befc3b8651e2bff = L.tileLayer(\n                &quot;https://{s}.tile.openstreetmap.org/{z}/{x}/{y}.png&quot;,\n                {&quot;attribution&quot;: &quot;Data by \\u0026copy; \\u003ca target=\\&quot;_blank\\&quot; href=\\&quot;http://openstreetmap.org\\&quot;\\u003eOpenStreetMap\\u003c/a\\u003e, under \\u003ca target=\\&quot;_blank\\&quot; href=\\&quot;http://www.openstreetmap.org/copyright\\&quot;\\u003eODbL\\u003c/a\\u003e.&quot;, &quot;detectRetina&quot;: false, &quot;maxNativeZoom&quot;: 18, &quot;maxZoom&quot;: 18, &quot;minZoom&quot;: 0, &quot;noWrap&quot;: false, &quot;opacity&quot;: 1, &quot;subdomains&quot;: &quot;abc&quot;, &quot;tms&quot;: false}\n            ).addTo(map_a25f87e923fb0df75b9f2d5070d5e2be);\n        \n    \n            var marker_81d2960306c0f80e3635a328bf6c09db = L.marker(\n                [28.56230197, -80.57735648],\n                {}\n            ).addTo(map_a25f87e923fb0df75b9f2d5070d5e2be);\n        \n    \n        var popup_0989e5ac950363713090960f78347437 = L.popup({&quot;maxWidth&quot;: &quot;100%&quot;});\n\n        \n            \n                var html_1109d01f6100763a24ec54f07a55a4ea = $(`&lt;div id=&quot;html_1109d01f6100763a24ec54f07a55a4ea&quot; style=&quot;width: 100.0%; height: 100.0%;&quot;&gt;CCAFS LC-40&lt;/div&gt;`)[0];\n                popup_0989e5ac950363713090960f78347437.setContent(html_1109d01f6100763a24ec54f07a55a4ea);\n            \n        \n\n        marker_81d2960306c0f80e3635a328bf6c09db.bindPopup(popup_0989e5ac950363713090960f78347437)\n        ;\n\n        \n    \n    \n            var marker_4070a899cc3c58e5ff4f63c971aa019e = L.marker(\n                [28.56319718, -80.57682003],\n                {}\n            ).addTo(map_a25f87e923fb0df75b9f2d5070d5e2be);\n        \n    \n        var popup_9d9f3dda7f79f5f363397164cb0b1df2 = L.popup({&quot;maxWidth&quot;: &quot;100%&quot;});\n\n        \n            \n                var html_b5784dd08726803c132526e43802fcd5 = $(`&lt;div id=&quot;html_b5784dd08726803c132526e43802fcd5&quot; style=&quot;width: 100.0%; height: 100.0%;&quot;&gt;CCAFS SLC-40&lt;/div&gt;`)[0];\n                popup_9d9f3dda7f79f5f363397164cb0b1df2.setContent(html_b5784dd08726803c132526e43802fcd5);\n            \n        \n\n        marker_4070a899cc3c58e5ff4f63c971aa019e.bindPopup(popup_9d9f3dda7f79f5f363397164cb0b1df2)\n        ;\n\n        \n    \n    \n            var marker_310860a5d6ea9449dabc13bca6400743 = L.marker(\n                [28.57325457, -80.64689529],\n                {}\n            ).addTo(map_a25f87e923fb0df75b9f2d5070d5e2be);\n        \n    \n        var popup_a41cd7c795cf596728e8474deec64f66 = L.popup({&quot;maxWidth&quot;: &quot;100%&quot;});\n\n        \n            \n                var html_1b6488d764e016bd2d77c702cea43f30 = $(`&lt;div id=&quot;html_1b6488d764e016bd2d77c702cea43f30&quot; style=&quot;width: 100.0%; height: 100.0%;&quot;&gt;KSC LC-39A&lt;/div&gt;`)[0];\n                popup_a41cd7c795cf596728e8474deec64f66.setContent(html_1b6488d764e016bd2d77c702cea43f30);\n            \n        \n\n        marker_310860a5d6ea9449dabc13bca6400743.bindPopup(popup_a41cd7c795cf596728e8474deec64f66)\n        ;\n\n        \n    \n    \n            var marker_6005f251a28839379cd489100aad620e = L.marker(\n                [34.63283416, -120.6107455],\n                {}\n            ).addTo(map_a25f87e923fb0df75b9f2d5070d5e2be);\n        \n    \n        var popup_a355ca01b829fb8f87c529d32586bc0b = L.popup({&quot;maxWidth&quot;: &quot;100%&quot;});\n\n        \n            \n                var html_1d8c7979704735b99fd96733d3960f77 = $(`&lt;div id=&quot;html_1d8c7979704735b99fd96733d3960f77&quot; style=&quot;width: 100.0%; height: 100.0%;&quot;&gt;VAFB SLC-4E&lt;/div&gt;`)[0];\n                popup_a355ca01b829fb8f87c529d32586bc0b.setContent(html_1d8c7979704735b99fd96733d3960f77);\n            \n        \n\n        marker_6005f251a28839379cd489100aad620e.bindPopup(popup_a355ca01b829fb8f87c529d32586bc0b)\n        ;\n\n        \n    \n&lt;/script&gt;\n&lt;/html&gt;\" style=\"position:absolute;width:100%;height:100%;left:0;top:0;border:none !important;\" allowfullscreen webkitallowfullscreen mozallowfullscreen></iframe></div></div>"
          },
          "metadata": {}
        }
      ]
    },
    {
      "cell_type": "markdown",
      "source": "Above coordinates are just plain numbers that can not give you any intuitive insights about where are those launch sites. If you are very good at geography, you can interpret those numbers directly in your mind. If not, that's fine too. Let's visualize those locations by pinning them on a map.\n",
      "metadata": {}
    },
    {
      "cell_type": "markdown",
      "source": "We first need to create a folium `Map` object, with an initial center location to be NASA Johnson Space Center at Houston, Texas.\n",
      "metadata": {}
    },
    {
      "cell_type": "code",
      "source": "# Start location is NASA Johnson Space Center\nnasa_coordinate = [29.559684888503615, -95.0830971930759]\nsite_map = folium.Map(location=nasa_coordinate, zoom_start=10)",
      "metadata": {
        "trusted": true
      },
      "execution_count": 7,
      "outputs": []
    },
    {
      "cell_type": "markdown",
      "source": "We could use `folium.Circle` to add a highlighted circle area with a text label on a specific coordinate. For example,\n",
      "metadata": {}
    },
    {
      "cell_type": "code",
      "source": "# Create a blue circle at NASA Johnson Space Center's coordinate with a popup label showing its name\ncircle = folium.Circle(nasa_coordinate, radius=1000, color='#d35400', fill=True).add_child(folium.Popup('NASA Johnson Space Center'))\n# Create a blue circle at NASA Johnson Space Center's coordinate with a icon showing its name\nmarker = folium.map.Marker(\n    nasa_coordinate,\n    # Create an icon as a text label\n    icon=DivIcon(\n        icon_size=(20,20),\n        icon_anchor=(0,0),\n        html='<div style=\"font-size: 12; color:#d35400;\"><b>%s</b></div>' % 'NASA JSC',\n        )\n    )\nsite_map.add_child(circle)\nsite_map.add_child(marker)",
      "metadata": {
        "trusted": true
      },
      "execution_count": 8,
      "outputs": [
        {
          "execution_count": 8,
          "output_type": "execute_result",
          "data": {
            "text/plain": "<folium.folium.Map at 0x2b233e8>",
            "text/html": "<div style=\"width:100%;\"><div style=\"position:relative;width:100%;height:0;padding-bottom:60%;\"><span style=\"color:#565656\">Make this Notebook Trusted to load map: File -> Trust Notebook</span><iframe srcdoc=\"&lt;!DOCTYPE html&gt;\n&lt;html&gt;\n&lt;head&gt;\n    \n    &lt;meta http-equiv=&quot;content-type&quot; content=&quot;text/html; charset=UTF-8&quot; /&gt;\n    \n        &lt;script&gt;\n            L_NO_TOUCH = false;\n            L_DISABLE_3D = false;\n        &lt;/script&gt;\n    \n    &lt;style&gt;html, body {width: 100%;height: 100%;margin: 0;padding: 0;}&lt;/style&gt;\n    &lt;style&gt;#map {position:absolute;top:0;bottom:0;right:0;left:0;}&lt;/style&gt;\n    &lt;script src=&quot;https://cdn.jsdelivr.net/npm/leaflet@1.9.3/dist/leaflet.js&quot;&gt;&lt;/script&gt;\n    &lt;script src=&quot;https://code.jquery.com/jquery-1.12.4.min.js&quot;&gt;&lt;/script&gt;\n    &lt;script src=&quot;https://cdn.jsdelivr.net/npm/bootstrap@5.2.2/dist/js/bootstrap.bundle.min.js&quot;&gt;&lt;/script&gt;\n    &lt;script src=&quot;https://cdnjs.cloudflare.com/ajax/libs/Leaflet.awesome-markers/2.0.2/leaflet.awesome-markers.js&quot;&gt;&lt;/script&gt;\n    &lt;link rel=&quot;stylesheet&quot; href=&quot;https://cdn.jsdelivr.net/npm/leaflet@1.9.3/dist/leaflet.css&quot;/&gt;\n    &lt;link rel=&quot;stylesheet&quot; href=&quot;https://cdn.jsdelivr.net/npm/bootstrap@5.2.2/dist/css/bootstrap.min.css&quot;/&gt;\n    &lt;link rel=&quot;stylesheet&quot; href=&quot;https://netdna.bootstrapcdn.com/bootstrap/3.0.0/css/bootstrap.min.css&quot;/&gt;\n    &lt;link rel=&quot;stylesheet&quot; href=&quot;https://cdn.jsdelivr.net/npm/@fortawesome/fontawesome-free@6.2.0/css/all.min.css&quot;/&gt;\n    &lt;link rel=&quot;stylesheet&quot; href=&quot;https://cdnjs.cloudflare.com/ajax/libs/Leaflet.awesome-markers/2.0.2/leaflet.awesome-markers.css&quot;/&gt;\n    &lt;link rel=&quot;stylesheet&quot; href=&quot;https://cdn.jsdelivr.net/gh/python-visualization/folium/folium/templates/leaflet.awesome.rotate.min.css&quot;/&gt;\n    \n            &lt;meta name=&quot;viewport&quot; content=&quot;width=device-width,\n                initial-scale=1.0, maximum-scale=1.0, user-scalable=no&quot; /&gt;\n            &lt;style&gt;\n                #map_94916c48f3d2f0c0a9a90ca80f45c721 {\n                    position: relative;\n                    width: 100.0%;\n                    height: 100.0%;\n                    left: 0.0%;\n                    top: 0.0%;\n                }\n                .leaflet-container { font-size: 1rem; }\n            &lt;/style&gt;\n        \n&lt;/head&gt;\n&lt;body&gt;\n    \n    \n            &lt;div class=&quot;folium-map&quot; id=&quot;map_94916c48f3d2f0c0a9a90ca80f45c721&quot; &gt;&lt;/div&gt;\n        \n&lt;/body&gt;\n&lt;script&gt;\n    \n    \n            var map_94916c48f3d2f0c0a9a90ca80f45c721 = L.map(\n                &quot;map_94916c48f3d2f0c0a9a90ca80f45c721&quot;,\n                {\n                    center: [29.559684888503615, -95.0830971930759],\n                    crs: L.CRS.EPSG3857,\n                    zoom: 10,\n                    zoomControl: true,\n                    preferCanvas: false,\n                }\n            );\n\n            \n\n        \n    \n            var tile_layer_3163f99a9c01ab015287a1e0c465309c = L.tileLayer(\n                &quot;https://{s}.tile.openstreetmap.org/{z}/{x}/{y}.png&quot;,\n                {&quot;attribution&quot;: &quot;Data by \\u0026copy; \\u003ca target=\\&quot;_blank\\&quot; href=\\&quot;http://openstreetmap.org\\&quot;\\u003eOpenStreetMap\\u003c/a\\u003e, under \\u003ca target=\\&quot;_blank\\&quot; href=\\&quot;http://www.openstreetmap.org/copyright\\&quot;\\u003eODbL\\u003c/a\\u003e.&quot;, &quot;detectRetina&quot;: false, &quot;maxNativeZoom&quot;: 18, &quot;maxZoom&quot;: 18, &quot;minZoom&quot;: 0, &quot;noWrap&quot;: false, &quot;opacity&quot;: 1, &quot;subdomains&quot;: &quot;abc&quot;, &quot;tms&quot;: false}\n            ).addTo(map_94916c48f3d2f0c0a9a90ca80f45c721);\n        \n    \n            var circle_7bc296cf7660593c4d3285668399d75c = L.circle(\n                [29.559684888503615, -95.0830971930759],\n                {&quot;bubblingMouseEvents&quot;: true, &quot;color&quot;: &quot;#d35400&quot;, &quot;dashArray&quot;: null, &quot;dashOffset&quot;: null, &quot;fill&quot;: true, &quot;fillColor&quot;: &quot;#d35400&quot;, &quot;fillOpacity&quot;: 0.2, &quot;fillRule&quot;: &quot;evenodd&quot;, &quot;lineCap&quot;: &quot;round&quot;, &quot;lineJoin&quot;: &quot;round&quot;, &quot;opacity&quot;: 1.0, &quot;radius&quot;: 1000, &quot;stroke&quot;: true, &quot;weight&quot;: 3}\n            ).addTo(map_94916c48f3d2f0c0a9a90ca80f45c721);\n        \n    \n        var popup_8e4d55d2df44b81c751a7819648bcf38 = L.popup({&quot;maxWidth&quot;: &quot;100%&quot;});\n\n        \n            \n                var html_b10e2d379b2c541938244598d060a200 = $(`&lt;div id=&quot;html_b10e2d379b2c541938244598d060a200&quot; style=&quot;width: 100.0%; height: 100.0%;&quot;&gt;NASA Johnson Space Center&lt;/div&gt;`)[0];\n                popup_8e4d55d2df44b81c751a7819648bcf38.setContent(html_b10e2d379b2c541938244598d060a200);\n            \n        \n\n        circle_7bc296cf7660593c4d3285668399d75c.bindPopup(popup_8e4d55d2df44b81c751a7819648bcf38)\n        ;\n\n        \n    \n    \n            var marker_12342d8ddc5f4dcfbb8c77acf44844b4 = L.marker(\n                [29.559684888503615, -95.0830971930759],\n                {}\n            ).addTo(map_94916c48f3d2f0c0a9a90ca80f45c721);\n        \n    \n            var div_icon_60f7bc5cb022116e50fac3bb7ed03f18 = L.divIcon({&quot;className&quot;: &quot;empty&quot;, &quot;html&quot;: &quot;\\u003cdiv style=\\&quot;font-size: 12; color:#d35400;\\&quot;\\u003e\\u003cb\\u003eNASA JSC\\u003c/b\\u003e\\u003c/div\\u003e&quot;, &quot;iconAnchor&quot;: [0, 0], &quot;iconSize&quot;: [20, 20]});\n            marker_12342d8ddc5f4dcfbb8c77acf44844b4.setIcon(div_icon_60f7bc5cb022116e50fac3bb7ed03f18);\n        \n&lt;/script&gt;\n&lt;/html&gt;\" style=\"position:absolute;width:100%;height:100%;left:0;top:0;border:none !important;\" allowfullscreen webkitallowfullscreen mozallowfullscreen></iframe></div></div>"
          },
          "metadata": {}
        }
      ]
    },
    {
      "cell_type": "markdown",
      "source": "and you should find a small yellow circle near the city of Houston and you can zoom-in to see a larger circle.\n",
      "metadata": {}
    },
    {
      "cell_type": "markdown",
      "source": "Now, let's add a circle for each launch site in data frame `launch_sites`\n",
      "metadata": {}
    },
    {
      "cell_type": "markdown",
      "source": "*TODO:*  Create and add `folium.Circle` and `folium.Marker` for each launch site on the site map\n",
      "metadata": {}
    },
    {
      "cell_type": "markdown",
      "source": "An example of folium.Circle:\n",
      "metadata": {}
    },
    {
      "cell_type": "markdown",
      "source": "`folium.Circle(coordinate, radius=1000, color='#000000', fill=True).add_child(folium.Popup(...))`\n",
      "metadata": {}
    },
    {
      "cell_type": "markdown",
      "source": "An example of folium.Marker:\n",
      "metadata": {}
    },
    {
      "cell_type": "markdown",
      "source": "`folium.map.Marker(coordinate, icon=DivIcon(icon_size=(20,20),icon_anchor=(0,0), html='<div style=\"font-size: 12; color:#d35400;\"><b>%s</b></div>' % 'label', ))`\n",
      "metadata": {}
    },
    {
      "cell_type": "code",
      "source": "# Initial the map\nsite_map = folium.Map(location=nasa_coordinate, zoom_start=5)\n# For each launch site, add a Circle object based on its coordinate (Lat, Long) values. In addition, add Launch site name as a popup label\n",
      "metadata": {
        "trusted": true
      },
      "execution_count": 9,
      "outputs": []
    },
    {
      "cell_type": "markdown",
      "source": "The generated map with marked launch sites should look similar to the following:\n",
      "metadata": {}
    },
    {
      "cell_type": "markdown",
      "source": "<center>\n    <img src=\"https://cf-courses-data.s3.us.cloud-object-storage.appdomain.cloud/IBM-DS0321EN-SkillsNetwork/labs/module_3/images/launch_site_markers.png\">\n</center>\n",
      "metadata": {}
    },
    {
      "cell_type": "markdown",
      "source": "Now, you can explore the map by zoom-in/out the marked areas\n, and try to answer the following questions:\n\n*   Are all launch sites in proximity to the Equator line?\n*   Are all launch sites in very close proximity to the coast?\n\nAlso please try to explain your findings.\n",
      "metadata": {}
    },
    {
      "cell_type": "code",
      "source": "# Task 2: Mark the success/failed launches for each site on the map\n\nmap = folium.Map(location=[spacex_df['Lat'].mean(), spacex_df['Long'].mean()], zoom_start=3)\n\n\nfor i, site in launch_sites_df.iterrows():\n   \n    site_fg = folium.FeatureGroup(name=site['Launch Site'])\n   \n    for j, launch in spacex_df.loc[spacex_df['Launch Site'] == site['Launch Site']].iterrows():\n       \n        color = 'green' if launch['class'] == 1 else 'red'\n        \n        folium.Marker(location=[launch['Lat'], launch['Long']], icon=folium.Icon(color=color), tooltip=launch['class']).add_to(site_fg)\n   \n    site_fg.add_to(map)\n\n\nfolium.LayerControl().add_to(map)\n\n# display the map\nmap\n\n",
      "metadata": {
        "trusted": true
      },
      "execution_count": 28,
      "outputs": [
        {
          "execution_count": 28,
          "output_type": "execute_result",
          "data": {
            "text/plain": "<folium.folium.Map at 0x4654178>",
            "text/html": "<div style=\"width:100%;\"><div style=\"position:relative;width:100%;height:0;padding-bottom:60%;\"><span style=\"color:#565656\">Make this Notebook Trusted to load map: File -> Trust Notebook</span><iframe srcdoc=\"&lt;!DOCTYPE html&gt;\n&lt;html&gt;\n&lt;head&gt;\n    \n    &lt;meta http-equiv=&quot;content-type&quot; content=&quot;text/html; charset=UTF-8&quot; /&gt;\n    \n        &lt;script&gt;\n            L_NO_TOUCH = false;\n            L_DISABLE_3D = false;\n        &lt;/script&gt;\n    \n    &lt;style&gt;html, body {width: 100%;height: 100%;margin: 0;padding: 0;}&lt;/style&gt;\n    &lt;style&gt;#map {position:absolute;top:0;bottom:0;right:0;left:0;}&lt;/style&gt;\n    &lt;script src=&quot;https://cdn.jsdelivr.net/npm/leaflet@1.9.3/dist/leaflet.js&quot;&gt;&lt;/script&gt;\n    &lt;script src=&quot;https://code.jquery.com/jquery-1.12.4.min.js&quot;&gt;&lt;/script&gt;\n    &lt;script src=&quot;https://cdn.jsdelivr.net/npm/bootstrap@5.2.2/dist/js/bootstrap.bundle.min.js&quot;&gt;&lt;/script&gt;\n    &lt;script src=&quot;https://cdnjs.cloudflare.com/ajax/libs/Leaflet.awesome-markers/2.0.2/leaflet.awesome-markers.js&quot;&gt;&lt;/script&gt;\n    &lt;link rel=&quot;stylesheet&quot; href=&quot;https://cdn.jsdelivr.net/npm/leaflet@1.9.3/dist/leaflet.css&quot;/&gt;\n    &lt;link rel=&quot;stylesheet&quot; href=&quot;https://cdn.jsdelivr.net/npm/bootstrap@5.2.2/dist/css/bootstrap.min.css&quot;/&gt;\n    &lt;link rel=&quot;stylesheet&quot; href=&quot;https://netdna.bootstrapcdn.com/bootstrap/3.0.0/css/bootstrap.min.css&quot;/&gt;\n    &lt;link rel=&quot;stylesheet&quot; href=&quot;https://cdn.jsdelivr.net/npm/@fortawesome/fontawesome-free@6.2.0/css/all.min.css&quot;/&gt;\n    &lt;link rel=&quot;stylesheet&quot; href=&quot;https://cdnjs.cloudflare.com/ajax/libs/Leaflet.awesome-markers/2.0.2/leaflet.awesome-markers.css&quot;/&gt;\n    &lt;link rel=&quot;stylesheet&quot; href=&quot;https://cdn.jsdelivr.net/gh/python-visualization/folium/folium/templates/leaflet.awesome.rotate.min.css&quot;/&gt;\n    \n            &lt;meta name=&quot;viewport&quot; content=&quot;width=device-width,\n                initial-scale=1.0, maximum-scale=1.0, user-scalable=no&quot; /&gt;\n            &lt;style&gt;\n                #map_dea5babf23fb5339e48dc19119e0e21c {\n                    position: relative;\n                    width: 100.0%;\n                    height: 100.0%;\n                    left: 0.0%;\n                    top: 0.0%;\n                }\n                .leaflet-container { font-size: 1rem; }\n            &lt;/style&gt;\n        \n&lt;/head&gt;\n&lt;body&gt;\n    \n    \n            &lt;div class=&quot;folium-map&quot; id=&quot;map_dea5babf23fb5339e48dc19119e0e21c&quot; &gt;&lt;/div&gt;\n        \n&lt;/body&gt;\n&lt;script&gt;\n    \n    \n            var map_dea5babf23fb5339e48dc19119e0e21c = L.map(\n                &quot;map_dea5babf23fb5339e48dc19119e0e21c&quot;,\n                {\n                    center: [29.648980044464285, -87.74225182964287],\n                    crs: L.CRS.EPSG3857,\n                    zoom: 3,\n                    zoomControl: true,\n                    preferCanvas: false,\n                }\n            );\n\n            \n\n        \n    \n            var tile_layer_42dc356f8e639b20bde4a0a053e451db = L.tileLayer(\n                &quot;https://{s}.tile.openstreetmap.org/{z}/{x}/{y}.png&quot;,\n                {&quot;attribution&quot;: &quot;Data by \\u0026copy; \\u003ca target=\\&quot;_blank\\&quot; href=\\&quot;http://openstreetmap.org\\&quot;\\u003eOpenStreetMap\\u003c/a\\u003e, under \\u003ca target=\\&quot;_blank\\&quot; href=\\&quot;http://www.openstreetmap.org/copyright\\&quot;\\u003eODbL\\u003c/a\\u003e.&quot;, &quot;detectRetina&quot;: false, &quot;maxNativeZoom&quot;: 18, &quot;maxZoom&quot;: 18, &quot;minZoom&quot;: 0, &quot;noWrap&quot;: false, &quot;opacity&quot;: 1, &quot;subdomains&quot;: &quot;abc&quot;, &quot;tms&quot;: false}\n            ).addTo(map_dea5babf23fb5339e48dc19119e0e21c);\n        \n    \n            var feature_group_715d492fb47890a3b6c8e69a53ddbfb2 = L.featureGroup(\n                {}\n            ).addTo(map_dea5babf23fb5339e48dc19119e0e21c);\n        \n    \n            var marker_3c8453fdf1debd72c20d5f69be321d30 = L.marker(\n                [28.56230197, -80.57735648],\n                {}\n            ).addTo(feature_group_715d492fb47890a3b6c8e69a53ddbfb2);\n        \n    \n            var icon_79e03e512ee3cabf932ad9224ada1cda = L.AwesomeMarkers.icon(\n                {&quot;extraClasses&quot;: &quot;fa-rotate-0&quot;, &quot;icon&quot;: &quot;info-sign&quot;, &quot;iconColor&quot;: &quot;white&quot;, &quot;markerColor&quot;: &quot;red&quot;, &quot;prefix&quot;: &quot;glyphicon&quot;}\n            );\n            marker_3c8453fdf1debd72c20d5f69be321d30.setIcon(icon_79e03e512ee3cabf932ad9224ada1cda);\n        \n    \n            marker_3c8453fdf1debd72c20d5f69be321d30.bindTooltip(\n                `&lt;div&gt;\n                     0\n                 &lt;/div&gt;`,\n                {&quot;sticky&quot;: true}\n            );\n        \n    \n            var marker_14e3eb945c882e68012ff2ca65fcc42f = L.marker(\n                [28.56230197, -80.57735648],\n                {}\n            ).addTo(feature_group_715d492fb47890a3b6c8e69a53ddbfb2);\n        \n    \n            var icon_da95eff4e1c5136d14bf7b801a5d4688 = L.AwesomeMarkers.icon(\n                {&quot;extraClasses&quot;: &quot;fa-rotate-0&quot;, &quot;icon&quot;: &quot;info-sign&quot;, &quot;iconColor&quot;: &quot;white&quot;, &quot;markerColor&quot;: &quot;red&quot;, &quot;prefix&quot;: &quot;glyphicon&quot;}\n            );\n            marker_14e3eb945c882e68012ff2ca65fcc42f.setIcon(icon_da95eff4e1c5136d14bf7b801a5d4688);\n        \n    \n            marker_14e3eb945c882e68012ff2ca65fcc42f.bindTooltip(\n                `&lt;div&gt;\n                     0\n                 &lt;/div&gt;`,\n                {&quot;sticky&quot;: true}\n            );\n        \n    \n            var marker_0bd10bedc50ddb34de4729870c193bf9 = L.marker(\n                [28.56230197, -80.57735648],\n                {}\n            ).addTo(feature_group_715d492fb47890a3b6c8e69a53ddbfb2);\n        \n    \n            var icon_9dd8a184bf0f577f31cb88e1aeb5d448 = L.AwesomeMarkers.icon(\n                {&quot;extraClasses&quot;: &quot;fa-rotate-0&quot;, &quot;icon&quot;: &quot;info-sign&quot;, &quot;iconColor&quot;: &quot;white&quot;, &quot;markerColor&quot;: &quot;red&quot;, &quot;prefix&quot;: &quot;glyphicon&quot;}\n            );\n            marker_0bd10bedc50ddb34de4729870c193bf9.setIcon(icon_9dd8a184bf0f577f31cb88e1aeb5d448);\n        \n    \n            marker_0bd10bedc50ddb34de4729870c193bf9.bindTooltip(\n                `&lt;div&gt;\n                     0\n                 &lt;/div&gt;`,\n                {&quot;sticky&quot;: true}\n            );\n        \n    \n            var marker_37b5e077def6f272d1f3abf367cb5f84 = L.marker(\n                [28.56230197, -80.57735648],\n                {}\n            ).addTo(feature_group_715d492fb47890a3b6c8e69a53ddbfb2);\n        \n    \n            var icon_df9b83e74ce09e638ccf7f7ca878a95e = L.AwesomeMarkers.icon(\n                {&quot;extraClasses&quot;: &quot;fa-rotate-0&quot;, &quot;icon&quot;: &quot;info-sign&quot;, &quot;iconColor&quot;: &quot;white&quot;, &quot;markerColor&quot;: &quot;red&quot;, &quot;prefix&quot;: &quot;glyphicon&quot;}\n            );\n            marker_37b5e077def6f272d1f3abf367cb5f84.setIcon(icon_df9b83e74ce09e638ccf7f7ca878a95e);\n        \n    \n            marker_37b5e077def6f272d1f3abf367cb5f84.bindTooltip(\n                `&lt;div&gt;\n                     0\n                 &lt;/div&gt;`,\n                {&quot;sticky&quot;: true}\n            );\n        \n    \n            var marker_ed22fb6912931f08118a96ef8c25ae4d = L.marker(\n                [28.56230197, -80.57735648],\n                {}\n            ).addTo(feature_group_715d492fb47890a3b6c8e69a53ddbfb2);\n        \n    \n            var icon_ca8c05af8cd0461fc40762761622f70f = L.AwesomeMarkers.icon(\n                {&quot;extraClasses&quot;: &quot;fa-rotate-0&quot;, &quot;icon&quot;: &quot;info-sign&quot;, &quot;iconColor&quot;: &quot;white&quot;, &quot;markerColor&quot;: &quot;red&quot;, &quot;prefix&quot;: &quot;glyphicon&quot;}\n            );\n            marker_ed22fb6912931f08118a96ef8c25ae4d.setIcon(icon_ca8c05af8cd0461fc40762761622f70f);\n        \n    \n            marker_ed22fb6912931f08118a96ef8c25ae4d.bindTooltip(\n                `&lt;div&gt;\n                     0\n                 &lt;/div&gt;`,\n                {&quot;sticky&quot;: true}\n            );\n        \n    \n            var marker_d0d2324fc60a4fe19936afe6fff0529f = L.marker(\n                [28.56230197, -80.57735648],\n                {}\n            ).addTo(feature_group_715d492fb47890a3b6c8e69a53ddbfb2);\n        \n    \n            var icon_d17322e45bb99d56c8b5fa5719a2f86c = L.AwesomeMarkers.icon(\n                {&quot;extraClasses&quot;: &quot;fa-rotate-0&quot;, &quot;icon&quot;: &quot;info-sign&quot;, &quot;iconColor&quot;: &quot;white&quot;, &quot;markerColor&quot;: &quot;red&quot;, &quot;prefix&quot;: &quot;glyphicon&quot;}\n            );\n            marker_d0d2324fc60a4fe19936afe6fff0529f.setIcon(icon_d17322e45bb99d56c8b5fa5719a2f86c);\n        \n    \n            marker_d0d2324fc60a4fe19936afe6fff0529f.bindTooltip(\n                `&lt;div&gt;\n                     0\n                 &lt;/div&gt;`,\n                {&quot;sticky&quot;: true}\n            );\n        \n    \n            var marker_e11eba5239e6f1affaeda9b125d2e01f = L.marker(\n                [28.56230197, -80.57735648],\n                {}\n            ).addTo(feature_group_715d492fb47890a3b6c8e69a53ddbfb2);\n        \n    \n            var icon_320311a08b50935013f52f84a477a0e0 = L.AwesomeMarkers.icon(\n                {&quot;extraClasses&quot;: &quot;fa-rotate-0&quot;, &quot;icon&quot;: &quot;info-sign&quot;, &quot;iconColor&quot;: &quot;white&quot;, &quot;markerColor&quot;: &quot;red&quot;, &quot;prefix&quot;: &quot;glyphicon&quot;}\n            );\n            marker_e11eba5239e6f1affaeda9b125d2e01f.setIcon(icon_320311a08b50935013f52f84a477a0e0);\n        \n    \n            marker_e11eba5239e6f1affaeda9b125d2e01f.bindTooltip(\n                `&lt;div&gt;\n                     0\n                 &lt;/div&gt;`,\n                {&quot;sticky&quot;: true}\n            );\n        \n    \n            var marker_0b8eddd1c1334c12226696af84f0738e = L.marker(\n                [28.56230197, -80.57735648],\n                {}\n            ).addTo(feature_group_715d492fb47890a3b6c8e69a53ddbfb2);\n        \n    \n            var icon_2efbe3656ca5600d258613ae2640a4f3 = L.AwesomeMarkers.icon(\n                {&quot;extraClasses&quot;: &quot;fa-rotate-0&quot;, &quot;icon&quot;: &quot;info-sign&quot;, &quot;iconColor&quot;: &quot;white&quot;, &quot;markerColor&quot;: &quot;red&quot;, &quot;prefix&quot;: &quot;glyphicon&quot;}\n            );\n            marker_0b8eddd1c1334c12226696af84f0738e.setIcon(icon_2efbe3656ca5600d258613ae2640a4f3);\n        \n    \n            marker_0b8eddd1c1334c12226696af84f0738e.bindTooltip(\n                `&lt;div&gt;\n                     0\n                 &lt;/div&gt;`,\n                {&quot;sticky&quot;: true}\n            );\n        \n    \n            var marker_94a83d33ecf2d6ce04a7e809e2919fe6 = L.marker(\n                [28.56230197, -80.57735648],\n                {}\n            ).addTo(feature_group_715d492fb47890a3b6c8e69a53ddbfb2);\n        \n    \n            var icon_f457cf822eb2846bdfd3b766495bde17 = L.AwesomeMarkers.icon(\n                {&quot;extraClasses&quot;: &quot;fa-rotate-0&quot;, &quot;icon&quot;: &quot;info-sign&quot;, &quot;iconColor&quot;: &quot;white&quot;, &quot;markerColor&quot;: &quot;red&quot;, &quot;prefix&quot;: &quot;glyphicon&quot;}\n            );\n            marker_94a83d33ecf2d6ce04a7e809e2919fe6.setIcon(icon_f457cf822eb2846bdfd3b766495bde17);\n        \n    \n            marker_94a83d33ecf2d6ce04a7e809e2919fe6.bindTooltip(\n                `&lt;div&gt;\n                     0\n                 &lt;/div&gt;`,\n                {&quot;sticky&quot;: true}\n            );\n        \n    \n            var marker_18e031186908baae872c8108f7491907 = L.marker(\n                [28.56230197, -80.57735648],\n                {}\n            ).addTo(feature_group_715d492fb47890a3b6c8e69a53ddbfb2);\n        \n    \n            var icon_0b4cfcbea1762d2a7bf2068bbbffde38 = L.AwesomeMarkers.icon(\n                {&quot;extraClasses&quot;: &quot;fa-rotate-0&quot;, &quot;icon&quot;: &quot;info-sign&quot;, &quot;iconColor&quot;: &quot;white&quot;, &quot;markerColor&quot;: &quot;red&quot;, &quot;prefix&quot;: &quot;glyphicon&quot;}\n            );\n            marker_18e031186908baae872c8108f7491907.setIcon(icon_0b4cfcbea1762d2a7bf2068bbbffde38);\n        \n    \n            marker_18e031186908baae872c8108f7491907.bindTooltip(\n                `&lt;div&gt;\n                     0\n                 &lt;/div&gt;`,\n                {&quot;sticky&quot;: true}\n            );\n        \n    \n            var marker_a2d6b22b4d5568d3b29a3143c87bcc86 = L.marker(\n                [28.56230197, -80.57735648],\n                {}\n            ).addTo(feature_group_715d492fb47890a3b6c8e69a53ddbfb2);\n        \n    \n            var icon_d5598e8447916dd70392c7bfeefc6cc7 = L.AwesomeMarkers.icon(\n                {&quot;extraClasses&quot;: &quot;fa-rotate-0&quot;, &quot;icon&quot;: &quot;info-sign&quot;, &quot;iconColor&quot;: &quot;white&quot;, &quot;markerColor&quot;: &quot;red&quot;, &quot;prefix&quot;: &quot;glyphicon&quot;}\n            );\n            marker_a2d6b22b4d5568d3b29a3143c87bcc86.setIcon(icon_d5598e8447916dd70392c7bfeefc6cc7);\n        \n    \n            marker_a2d6b22b4d5568d3b29a3143c87bcc86.bindTooltip(\n                `&lt;div&gt;\n                     0\n                 &lt;/div&gt;`,\n                {&quot;sticky&quot;: true}\n            );\n        \n    \n            var marker_d634fc7bcee69e8ae496fbe16f154ac4 = L.marker(\n                [28.56230197, -80.57735648],\n                {}\n            ).addTo(feature_group_715d492fb47890a3b6c8e69a53ddbfb2);\n        \n    \n            var icon_ce9497f25f79823023896195d9a55c13 = L.AwesomeMarkers.icon(\n                {&quot;extraClasses&quot;: &quot;fa-rotate-0&quot;, &quot;icon&quot;: &quot;info-sign&quot;, &quot;iconColor&quot;: &quot;white&quot;, &quot;markerColor&quot;: &quot;red&quot;, &quot;prefix&quot;: &quot;glyphicon&quot;}\n            );\n            marker_d634fc7bcee69e8ae496fbe16f154ac4.setIcon(icon_ce9497f25f79823023896195d9a55c13);\n        \n    \n            marker_d634fc7bcee69e8ae496fbe16f154ac4.bindTooltip(\n                `&lt;div&gt;\n                     0\n                 &lt;/div&gt;`,\n                {&quot;sticky&quot;: true}\n            );\n        \n    \n            var marker_6505ef967d5dd788510c4f71b141ce46 = L.marker(\n                [28.56230197, -80.57735648],\n                {}\n            ).addTo(feature_group_715d492fb47890a3b6c8e69a53ddbfb2);\n        \n    \n            var icon_432483b45e5a64c32f523feb4763d7b8 = L.AwesomeMarkers.icon(\n                {&quot;extraClasses&quot;: &quot;fa-rotate-0&quot;, &quot;icon&quot;: &quot;info-sign&quot;, &quot;iconColor&quot;: &quot;white&quot;, &quot;markerColor&quot;: &quot;red&quot;, &quot;prefix&quot;: &quot;glyphicon&quot;}\n            );\n            marker_6505ef967d5dd788510c4f71b141ce46.setIcon(icon_432483b45e5a64c32f523feb4763d7b8);\n        \n    \n            marker_6505ef967d5dd788510c4f71b141ce46.bindTooltip(\n                `&lt;div&gt;\n                     0\n                 &lt;/div&gt;`,\n                {&quot;sticky&quot;: true}\n            );\n        \n    \n            var marker_4a418c02787c70db5886f8c37e3b502a = L.marker(\n                [28.56230197, -80.57735648],\n                {}\n            ).addTo(feature_group_715d492fb47890a3b6c8e69a53ddbfb2);\n        \n    \n            var icon_3a17e5128a17008435cdf557fda46fdf = L.AwesomeMarkers.icon(\n                {&quot;extraClasses&quot;: &quot;fa-rotate-0&quot;, &quot;icon&quot;: &quot;info-sign&quot;, &quot;iconColor&quot;: &quot;white&quot;, &quot;markerColor&quot;: &quot;red&quot;, &quot;prefix&quot;: &quot;glyphicon&quot;}\n            );\n            marker_4a418c02787c70db5886f8c37e3b502a.setIcon(icon_3a17e5128a17008435cdf557fda46fdf);\n        \n    \n            marker_4a418c02787c70db5886f8c37e3b502a.bindTooltip(\n                `&lt;div&gt;\n                     0\n                 &lt;/div&gt;`,\n                {&quot;sticky&quot;: true}\n            );\n        \n    \n            var marker_b18bc6d70443694519e275736039f1a0 = L.marker(\n                [28.56230197, -80.57735648],\n                {}\n            ).addTo(feature_group_715d492fb47890a3b6c8e69a53ddbfb2);\n        \n    \n            var icon_266b515af6c7138aadac1b28b58d2bef = L.AwesomeMarkers.icon(\n                {&quot;extraClasses&quot;: &quot;fa-rotate-0&quot;, &quot;icon&quot;: &quot;info-sign&quot;, &quot;iconColor&quot;: &quot;white&quot;, &quot;markerColor&quot;: &quot;red&quot;, &quot;prefix&quot;: &quot;glyphicon&quot;}\n            );\n            marker_b18bc6d70443694519e275736039f1a0.setIcon(icon_266b515af6c7138aadac1b28b58d2bef);\n        \n    \n            marker_b18bc6d70443694519e275736039f1a0.bindTooltip(\n                `&lt;div&gt;\n                     0\n                 &lt;/div&gt;`,\n                {&quot;sticky&quot;: true}\n            );\n        \n    \n            var marker_9a690acf2d7b1a0ebe0e35dcc8321bd8 = L.marker(\n                [28.56230197, -80.57735648],\n                {}\n            ).addTo(feature_group_715d492fb47890a3b6c8e69a53ddbfb2);\n        \n    \n            var icon_ef118a1f12a54c362bbb8bf22166f4eb = L.AwesomeMarkers.icon(\n                {&quot;extraClasses&quot;: &quot;fa-rotate-0&quot;, &quot;icon&quot;: &quot;info-sign&quot;, &quot;iconColor&quot;: &quot;white&quot;, &quot;markerColor&quot;: &quot;red&quot;, &quot;prefix&quot;: &quot;glyphicon&quot;}\n            );\n            marker_9a690acf2d7b1a0ebe0e35dcc8321bd8.setIcon(icon_ef118a1f12a54c362bbb8bf22166f4eb);\n        \n    \n            marker_9a690acf2d7b1a0ebe0e35dcc8321bd8.bindTooltip(\n                `&lt;div&gt;\n                     0\n                 &lt;/div&gt;`,\n                {&quot;sticky&quot;: true}\n            );\n        \n    \n            var marker_0e529131e3b63f3d7e1e528e61277683 = L.marker(\n                [28.56230197, -80.57735648],\n                {}\n            ).addTo(feature_group_715d492fb47890a3b6c8e69a53ddbfb2);\n        \n    \n            var icon_d2f3bb21642360ccc525c29a4377d4a6 = L.AwesomeMarkers.icon(\n                {&quot;extraClasses&quot;: &quot;fa-rotate-0&quot;, &quot;icon&quot;: &quot;info-sign&quot;, &quot;iconColor&quot;: &quot;white&quot;, &quot;markerColor&quot;: &quot;red&quot;, &quot;prefix&quot;: &quot;glyphicon&quot;}\n            );\n            marker_0e529131e3b63f3d7e1e528e61277683.setIcon(icon_d2f3bb21642360ccc525c29a4377d4a6);\n        \n    \n            marker_0e529131e3b63f3d7e1e528e61277683.bindTooltip(\n                `&lt;div&gt;\n                     0\n                 &lt;/div&gt;`,\n                {&quot;sticky&quot;: true}\n            );\n        \n    \n            var marker_71fb3b7af375c1b466bd181ec84e3779 = L.marker(\n                [28.56230197, -80.57735648],\n                {}\n            ).addTo(feature_group_715d492fb47890a3b6c8e69a53ddbfb2);\n        \n    \n            var icon_831d47e144dad91f2cd74fc73ac06f8e = L.AwesomeMarkers.icon(\n                {&quot;extraClasses&quot;: &quot;fa-rotate-0&quot;, &quot;icon&quot;: &quot;info-sign&quot;, &quot;iconColor&quot;: &quot;white&quot;, &quot;markerColor&quot;: &quot;green&quot;, &quot;prefix&quot;: &quot;glyphicon&quot;}\n            );\n            marker_71fb3b7af375c1b466bd181ec84e3779.setIcon(icon_831d47e144dad91f2cd74fc73ac06f8e);\n        \n    \n            marker_71fb3b7af375c1b466bd181ec84e3779.bindTooltip(\n                `&lt;div&gt;\n                     1\n                 &lt;/div&gt;`,\n                {&quot;sticky&quot;: true}\n            );\n        \n    \n            var marker_d7b882ec3f4d0e888bfe78e56970cc6d = L.marker(\n                [28.56230197, -80.57735648],\n                {}\n            ).addTo(feature_group_715d492fb47890a3b6c8e69a53ddbfb2);\n        \n    \n            var icon_776f6f280a7cb40e9fd535cc41dc0923 = L.AwesomeMarkers.icon(\n                {&quot;extraClasses&quot;: &quot;fa-rotate-0&quot;, &quot;icon&quot;: &quot;info-sign&quot;, &quot;iconColor&quot;: &quot;white&quot;, &quot;markerColor&quot;: &quot;green&quot;, &quot;prefix&quot;: &quot;glyphicon&quot;}\n            );\n            marker_d7b882ec3f4d0e888bfe78e56970cc6d.setIcon(icon_776f6f280a7cb40e9fd535cc41dc0923);\n        \n    \n            marker_d7b882ec3f4d0e888bfe78e56970cc6d.bindTooltip(\n                `&lt;div&gt;\n                     1\n                 &lt;/div&gt;`,\n                {&quot;sticky&quot;: true}\n            );\n        \n    \n            var marker_7daabcba5640c0a46ee7d6ad40c43fd4 = L.marker(\n                [28.56230197, -80.57735648],\n                {}\n            ).addTo(feature_group_715d492fb47890a3b6c8e69a53ddbfb2);\n        \n    \n            var icon_1bbecee2bd62b6c7255c04d87521e2ef = L.AwesomeMarkers.icon(\n                {&quot;extraClasses&quot;: &quot;fa-rotate-0&quot;, &quot;icon&quot;: &quot;info-sign&quot;, &quot;iconColor&quot;: &quot;white&quot;, &quot;markerColor&quot;: &quot;red&quot;, &quot;prefix&quot;: &quot;glyphicon&quot;}\n            );\n            marker_7daabcba5640c0a46ee7d6ad40c43fd4.setIcon(icon_1bbecee2bd62b6c7255c04d87521e2ef);\n        \n    \n            marker_7daabcba5640c0a46ee7d6ad40c43fd4.bindTooltip(\n                `&lt;div&gt;\n                     0\n                 &lt;/div&gt;`,\n                {&quot;sticky&quot;: true}\n            );\n        \n    \n            var marker_68b5ea92dac8a71205dfe8b84a07f44c = L.marker(\n                [28.56230197, -80.57735648],\n                {}\n            ).addTo(feature_group_715d492fb47890a3b6c8e69a53ddbfb2);\n        \n    \n            var icon_138f1c084d5bddc8afeff5327d0a48e9 = L.AwesomeMarkers.icon(\n                {&quot;extraClasses&quot;: &quot;fa-rotate-0&quot;, &quot;icon&quot;: &quot;info-sign&quot;, &quot;iconColor&quot;: &quot;white&quot;, &quot;markerColor&quot;: &quot;green&quot;, &quot;prefix&quot;: &quot;glyphicon&quot;}\n            );\n            marker_68b5ea92dac8a71205dfe8b84a07f44c.setIcon(icon_138f1c084d5bddc8afeff5327d0a48e9);\n        \n    \n            marker_68b5ea92dac8a71205dfe8b84a07f44c.bindTooltip(\n                `&lt;div&gt;\n                     1\n                 &lt;/div&gt;`,\n                {&quot;sticky&quot;: true}\n            );\n        \n    \n            var marker_34e7c685ab2a6ab279b9b6eb3043adbb = L.marker(\n                [28.56230197, -80.57735648],\n                {}\n            ).addTo(feature_group_715d492fb47890a3b6c8e69a53ddbfb2);\n        \n    \n            var icon_5198e441292faa904ae89747fbbf48eb = L.AwesomeMarkers.icon(\n                {&quot;extraClasses&quot;: &quot;fa-rotate-0&quot;, &quot;icon&quot;: &quot;info-sign&quot;, &quot;iconColor&quot;: &quot;white&quot;, &quot;markerColor&quot;: &quot;green&quot;, &quot;prefix&quot;: &quot;glyphicon&quot;}\n            );\n            marker_34e7c685ab2a6ab279b9b6eb3043adbb.setIcon(icon_5198e441292faa904ae89747fbbf48eb);\n        \n    \n            marker_34e7c685ab2a6ab279b9b6eb3043adbb.bindTooltip(\n                `&lt;div&gt;\n                     1\n                 &lt;/div&gt;`,\n                {&quot;sticky&quot;: true}\n            );\n        \n    \n            var marker_19caeb3db990ae0fdcb5a7f3dd92a5ee = L.marker(\n                [28.56230197, -80.57735648],\n                {}\n            ).addTo(feature_group_715d492fb47890a3b6c8e69a53ddbfb2);\n        \n    \n            var icon_4e5fb8ccc2a57f6e4cfa10a314656fcf = L.AwesomeMarkers.icon(\n                {&quot;extraClasses&quot;: &quot;fa-rotate-0&quot;, &quot;icon&quot;: &quot;info-sign&quot;, &quot;iconColor&quot;: &quot;white&quot;, &quot;markerColor&quot;: &quot;green&quot;, &quot;prefix&quot;: &quot;glyphicon&quot;}\n            );\n            marker_19caeb3db990ae0fdcb5a7f3dd92a5ee.setIcon(icon_4e5fb8ccc2a57f6e4cfa10a314656fcf);\n        \n    \n            marker_19caeb3db990ae0fdcb5a7f3dd92a5ee.bindTooltip(\n                `&lt;div&gt;\n                     1\n                 &lt;/div&gt;`,\n                {&quot;sticky&quot;: true}\n            );\n        \n    \n            var marker_a37935b699dda04ee87924d31158ba2e = L.marker(\n                [28.56230197, -80.57735648],\n                {}\n            ).addTo(feature_group_715d492fb47890a3b6c8e69a53ddbfb2);\n        \n    \n            var icon_9e9e583155845086f118b581f0a0ea2d = L.AwesomeMarkers.icon(\n                {&quot;extraClasses&quot;: &quot;fa-rotate-0&quot;, &quot;icon&quot;: &quot;info-sign&quot;, &quot;iconColor&quot;: &quot;white&quot;, &quot;markerColor&quot;: &quot;red&quot;, &quot;prefix&quot;: &quot;glyphicon&quot;}\n            );\n            marker_a37935b699dda04ee87924d31158ba2e.setIcon(icon_9e9e583155845086f118b581f0a0ea2d);\n        \n    \n            marker_a37935b699dda04ee87924d31158ba2e.bindTooltip(\n                `&lt;div&gt;\n                     0\n                 &lt;/div&gt;`,\n                {&quot;sticky&quot;: true}\n            );\n        \n    \n            var marker_52c3e2bffae9c990f458502be77525e5 = L.marker(\n                [28.56230197, -80.57735648],\n                {}\n            ).addTo(feature_group_715d492fb47890a3b6c8e69a53ddbfb2);\n        \n    \n            var icon_294ae34637516770a6547f6045d268a9 = L.AwesomeMarkers.icon(\n                {&quot;extraClasses&quot;: &quot;fa-rotate-0&quot;, &quot;icon&quot;: &quot;info-sign&quot;, &quot;iconColor&quot;: &quot;white&quot;, &quot;markerColor&quot;: &quot;green&quot;, &quot;prefix&quot;: &quot;glyphicon&quot;}\n            );\n            marker_52c3e2bffae9c990f458502be77525e5.setIcon(icon_294ae34637516770a6547f6045d268a9);\n        \n    \n            marker_52c3e2bffae9c990f458502be77525e5.bindTooltip(\n                `&lt;div&gt;\n                     1\n                 &lt;/div&gt;`,\n                {&quot;sticky&quot;: true}\n            );\n        \n    \n            var marker_215e0b6838e71c4cde88bad0a39af4e5 = L.marker(\n                [28.56230197, -80.57735648],\n                {}\n            ).addTo(feature_group_715d492fb47890a3b6c8e69a53ddbfb2);\n        \n    \n            var icon_4e79449c5d14dfadddeb4d9f8d8efa8b = L.AwesomeMarkers.icon(\n                {&quot;extraClasses&quot;: &quot;fa-rotate-0&quot;, &quot;icon&quot;: &quot;info-sign&quot;, &quot;iconColor&quot;: &quot;white&quot;, &quot;markerColor&quot;: &quot;green&quot;, &quot;prefix&quot;: &quot;glyphicon&quot;}\n            );\n            marker_215e0b6838e71c4cde88bad0a39af4e5.setIcon(icon_4e79449c5d14dfadddeb4d9f8d8efa8b);\n        \n    \n            marker_215e0b6838e71c4cde88bad0a39af4e5.bindTooltip(\n                `&lt;div&gt;\n                     1\n                 &lt;/div&gt;`,\n                {&quot;sticky&quot;: true}\n            );\n        \n    \n            var feature_group_df264acfc9b6e44677e793803677bbcd = L.featureGroup(\n                {}\n            ).addTo(map_dea5babf23fb5339e48dc19119e0e21c);\n        \n    \n            var marker_e5f92f5b583c4026dfe8b765cecb5d5d = L.marker(\n                [28.56319718, -80.57682003],\n                {}\n            ).addTo(feature_group_df264acfc9b6e44677e793803677bbcd);\n        \n    \n            var icon_c24f2e7cd996a1766ce3e1a24426d511 = L.AwesomeMarkers.icon(\n                {&quot;extraClasses&quot;: &quot;fa-rotate-0&quot;, &quot;icon&quot;: &quot;info-sign&quot;, &quot;iconColor&quot;: &quot;white&quot;, &quot;markerColor&quot;: &quot;green&quot;, &quot;prefix&quot;: &quot;glyphicon&quot;}\n            );\n            marker_e5f92f5b583c4026dfe8b765cecb5d5d.setIcon(icon_c24f2e7cd996a1766ce3e1a24426d511);\n        \n    \n            marker_e5f92f5b583c4026dfe8b765cecb5d5d.bindTooltip(\n                `&lt;div&gt;\n                     1\n                 &lt;/div&gt;`,\n                {&quot;sticky&quot;: true}\n            );\n        \n    \n            var marker_13c7902ea9b23d17ffb686a02b3ec008 = L.marker(\n                [28.56319718, -80.57682003],\n                {}\n            ).addTo(feature_group_df264acfc9b6e44677e793803677bbcd);\n        \n    \n            var icon_0add8b663a410a52a11c317ddb45356f = L.AwesomeMarkers.icon(\n                {&quot;extraClasses&quot;: &quot;fa-rotate-0&quot;, &quot;icon&quot;: &quot;info-sign&quot;, &quot;iconColor&quot;: &quot;white&quot;, &quot;markerColor&quot;: &quot;green&quot;, &quot;prefix&quot;: &quot;glyphicon&quot;}\n            );\n            marker_13c7902ea9b23d17ffb686a02b3ec008.setIcon(icon_0add8b663a410a52a11c317ddb45356f);\n        \n    \n            marker_13c7902ea9b23d17ffb686a02b3ec008.bindTooltip(\n                `&lt;div&gt;\n                     1\n                 &lt;/div&gt;`,\n                {&quot;sticky&quot;: true}\n            );\n        \n    \n            var marker_3af020415a745f55d0ff220a3f754576 = L.marker(\n                [28.56319718, -80.57682003],\n                {}\n            ).addTo(feature_group_df264acfc9b6e44677e793803677bbcd);\n        \n    \n            var icon_83673caef775c08e1e71f5dd6a2069f5 = L.AwesomeMarkers.icon(\n                {&quot;extraClasses&quot;: &quot;fa-rotate-0&quot;, &quot;icon&quot;: &quot;info-sign&quot;, &quot;iconColor&quot;: &quot;white&quot;, &quot;markerColor&quot;: &quot;red&quot;, &quot;prefix&quot;: &quot;glyphicon&quot;}\n            );\n            marker_3af020415a745f55d0ff220a3f754576.setIcon(icon_83673caef775c08e1e71f5dd6a2069f5);\n        \n    \n            marker_3af020415a745f55d0ff220a3f754576.bindTooltip(\n                `&lt;div&gt;\n                     0\n                 &lt;/div&gt;`,\n                {&quot;sticky&quot;: true}\n            );\n        \n    \n            var marker_3ea001bfbf85fcf3d559b0e0f7183825 = L.marker(\n                [28.56319718, -80.57682003],\n                {}\n            ).addTo(feature_group_df264acfc9b6e44677e793803677bbcd);\n        \n    \n            var icon_6803b3afc2e90b2704b2a7b29221c2a3 = L.AwesomeMarkers.icon(\n                {&quot;extraClasses&quot;: &quot;fa-rotate-0&quot;, &quot;icon&quot;: &quot;info-sign&quot;, &quot;iconColor&quot;: &quot;white&quot;, &quot;markerColor&quot;: &quot;red&quot;, &quot;prefix&quot;: &quot;glyphicon&quot;}\n            );\n            marker_3ea001bfbf85fcf3d559b0e0f7183825.setIcon(icon_6803b3afc2e90b2704b2a7b29221c2a3);\n        \n    \n            marker_3ea001bfbf85fcf3d559b0e0f7183825.bindTooltip(\n                `&lt;div&gt;\n                     0\n                 &lt;/div&gt;`,\n                {&quot;sticky&quot;: true}\n            );\n        \n    \n            var marker_9c460579e27d0a40e735ca1736a4e755 = L.marker(\n                [28.56319718, -80.57682003],\n                {}\n            ).addTo(feature_group_df264acfc9b6e44677e793803677bbcd);\n        \n    \n            var icon_37f0af9ab059b6d2db73e6e910b98c44 = L.AwesomeMarkers.icon(\n                {&quot;extraClasses&quot;: &quot;fa-rotate-0&quot;, &quot;icon&quot;: &quot;info-sign&quot;, &quot;iconColor&quot;: &quot;white&quot;, &quot;markerColor&quot;: &quot;red&quot;, &quot;prefix&quot;: &quot;glyphicon&quot;}\n            );\n            marker_9c460579e27d0a40e735ca1736a4e755.setIcon(icon_37f0af9ab059b6d2db73e6e910b98c44);\n        \n    \n            marker_9c460579e27d0a40e735ca1736a4e755.bindTooltip(\n                `&lt;div&gt;\n                     0\n                 &lt;/div&gt;`,\n                {&quot;sticky&quot;: true}\n            );\n        \n    \n            var marker_f4dcfab823647b7c4581d43b7500eae5 = L.marker(\n                [28.56319718, -80.57682003],\n                {}\n            ).addTo(feature_group_df264acfc9b6e44677e793803677bbcd);\n        \n    \n            var icon_89b674eb094d9ca8ecb1d5668de0bf5e = L.AwesomeMarkers.icon(\n                {&quot;extraClasses&quot;: &quot;fa-rotate-0&quot;, &quot;icon&quot;: &quot;info-sign&quot;, &quot;iconColor&quot;: &quot;white&quot;, &quot;markerColor&quot;: &quot;green&quot;, &quot;prefix&quot;: &quot;glyphicon&quot;}\n            );\n            marker_f4dcfab823647b7c4581d43b7500eae5.setIcon(icon_89b674eb094d9ca8ecb1d5668de0bf5e);\n        \n    \n            marker_f4dcfab823647b7c4581d43b7500eae5.bindTooltip(\n                `&lt;div&gt;\n                     1\n                 &lt;/div&gt;`,\n                {&quot;sticky&quot;: true}\n            );\n        \n    \n            var marker_56a17e6902fcfb0cec0ec37a3c922850 = L.marker(\n                [28.56319718, -80.57682003],\n                {}\n            ).addTo(feature_group_df264acfc9b6e44677e793803677bbcd);\n        \n    \n            var icon_46a094486dd112f9ad9b51413599305a = L.AwesomeMarkers.icon(\n                {&quot;extraClasses&quot;: &quot;fa-rotate-0&quot;, &quot;icon&quot;: &quot;info-sign&quot;, &quot;iconColor&quot;: &quot;white&quot;, &quot;markerColor&quot;: &quot;red&quot;, &quot;prefix&quot;: &quot;glyphicon&quot;}\n            );\n            marker_56a17e6902fcfb0cec0ec37a3c922850.setIcon(icon_46a094486dd112f9ad9b51413599305a);\n        \n    \n            marker_56a17e6902fcfb0cec0ec37a3c922850.bindTooltip(\n                `&lt;div&gt;\n                     0\n                 &lt;/div&gt;`,\n                {&quot;sticky&quot;: true}\n            );\n        \n    \n            var feature_group_27ab7f441f301fa9cdb9fdce0d010db8 = L.featureGroup(\n                {}\n            ).addTo(map_dea5babf23fb5339e48dc19119e0e21c);\n        \n    \n            var marker_a64e6623082b41c789801f418eaf0024 = L.marker(\n                [28.57325457, -80.64689529],\n                {}\n            ).addTo(feature_group_27ab7f441f301fa9cdb9fdce0d010db8);\n        \n    \n            var icon_b73741331260570f371c1ba76ea50a9e = L.AwesomeMarkers.icon(\n                {&quot;extraClasses&quot;: &quot;fa-rotate-0&quot;, &quot;icon&quot;: &quot;info-sign&quot;, &quot;iconColor&quot;: &quot;white&quot;, &quot;markerColor&quot;: &quot;green&quot;, &quot;prefix&quot;: &quot;glyphicon&quot;}\n            );\n            marker_a64e6623082b41c789801f418eaf0024.setIcon(icon_b73741331260570f371c1ba76ea50a9e);\n        \n    \n            marker_a64e6623082b41c789801f418eaf0024.bindTooltip(\n                `&lt;div&gt;\n                     1\n                 &lt;/div&gt;`,\n                {&quot;sticky&quot;: true}\n            );\n        \n    \n            var marker_c96234d7c15536917f3185b8b520d41d = L.marker(\n                [28.57325457, -80.64689529],\n                {}\n            ).addTo(feature_group_27ab7f441f301fa9cdb9fdce0d010db8);\n        \n    \n            var icon_f5fb62bc38ace7150ae1f86ac55529ea = L.AwesomeMarkers.icon(\n                {&quot;extraClasses&quot;: &quot;fa-rotate-0&quot;, &quot;icon&quot;: &quot;info-sign&quot;, &quot;iconColor&quot;: &quot;white&quot;, &quot;markerColor&quot;: &quot;red&quot;, &quot;prefix&quot;: &quot;glyphicon&quot;}\n            );\n            marker_c96234d7c15536917f3185b8b520d41d.setIcon(icon_f5fb62bc38ace7150ae1f86ac55529ea);\n        \n    \n            marker_c96234d7c15536917f3185b8b520d41d.bindTooltip(\n                `&lt;div&gt;\n                     0\n                 &lt;/div&gt;`,\n                {&quot;sticky&quot;: true}\n            );\n        \n    \n            var marker_0d0114ab2a715f9e9abf76b3b8037db2 = L.marker(\n                [28.57325457, -80.64689529],\n                {}\n            ).addTo(feature_group_27ab7f441f301fa9cdb9fdce0d010db8);\n        \n    \n            var icon_fe75722c26de159e0f2fc6aec8a48d34 = L.AwesomeMarkers.icon(\n                {&quot;extraClasses&quot;: &quot;fa-rotate-0&quot;, &quot;icon&quot;: &quot;info-sign&quot;, &quot;iconColor&quot;: &quot;white&quot;, &quot;markerColor&quot;: &quot;green&quot;, &quot;prefix&quot;: &quot;glyphicon&quot;}\n            );\n            marker_0d0114ab2a715f9e9abf76b3b8037db2.setIcon(icon_fe75722c26de159e0f2fc6aec8a48d34);\n        \n    \n            marker_0d0114ab2a715f9e9abf76b3b8037db2.bindTooltip(\n                `&lt;div&gt;\n                     1\n                 &lt;/div&gt;`,\n                {&quot;sticky&quot;: true}\n            );\n        \n    \n            var marker_3812c9aa31c2b58a15f3cfa0e942fbd3 = L.marker(\n                [28.57325457, -80.64689529],\n                {}\n            ).addTo(feature_group_27ab7f441f301fa9cdb9fdce0d010db8);\n        \n    \n            var icon_67c88b3cc8a3a32cb8031c01ce17e4dd = L.AwesomeMarkers.icon(\n                {&quot;extraClasses&quot;: &quot;fa-rotate-0&quot;, &quot;icon&quot;: &quot;info-sign&quot;, &quot;iconColor&quot;: &quot;white&quot;, &quot;markerColor&quot;: &quot;green&quot;, &quot;prefix&quot;: &quot;glyphicon&quot;}\n            );\n            marker_3812c9aa31c2b58a15f3cfa0e942fbd3.setIcon(icon_67c88b3cc8a3a32cb8031c01ce17e4dd);\n        \n    \n            marker_3812c9aa31c2b58a15f3cfa0e942fbd3.bindTooltip(\n                `&lt;div&gt;\n                     1\n                 &lt;/div&gt;`,\n                {&quot;sticky&quot;: true}\n            );\n        \n    \n            var marker_963cde2d55deba3795cc8cd9709bfbaa = L.marker(\n                [28.57325457, -80.64689529],\n                {}\n            ).addTo(feature_group_27ab7f441f301fa9cdb9fdce0d010db8);\n        \n    \n            var icon_1707a252dc10ebdd8c163da85b5b1fcc = L.AwesomeMarkers.icon(\n                {&quot;extraClasses&quot;: &quot;fa-rotate-0&quot;, &quot;icon&quot;: &quot;info-sign&quot;, &quot;iconColor&quot;: &quot;white&quot;, &quot;markerColor&quot;: &quot;red&quot;, &quot;prefix&quot;: &quot;glyphicon&quot;}\n            );\n            marker_963cde2d55deba3795cc8cd9709bfbaa.setIcon(icon_1707a252dc10ebdd8c163da85b5b1fcc);\n        \n    \n            marker_963cde2d55deba3795cc8cd9709bfbaa.bindTooltip(\n                `&lt;div&gt;\n                     0\n                 &lt;/div&gt;`,\n                {&quot;sticky&quot;: true}\n            );\n        \n    \n            var marker_bc9d9a69369a5ed67e3982fd6b3c0fad = L.marker(\n                [28.57325457, -80.64689529],\n                {}\n            ).addTo(feature_group_27ab7f441f301fa9cdb9fdce0d010db8);\n        \n    \n            var icon_931e941158f7d8837a9c89e251c158fd = L.AwesomeMarkers.icon(\n                {&quot;extraClasses&quot;: &quot;fa-rotate-0&quot;, &quot;icon&quot;: &quot;info-sign&quot;, &quot;iconColor&quot;: &quot;white&quot;, &quot;markerColor&quot;: &quot;green&quot;, &quot;prefix&quot;: &quot;glyphicon&quot;}\n            );\n            marker_bc9d9a69369a5ed67e3982fd6b3c0fad.setIcon(icon_931e941158f7d8837a9c89e251c158fd);\n        \n    \n            marker_bc9d9a69369a5ed67e3982fd6b3c0fad.bindTooltip(\n                `&lt;div&gt;\n                     1\n                 &lt;/div&gt;`,\n                {&quot;sticky&quot;: true}\n            );\n        \n    \n            var marker_608b59acc6204d44fa3e249eadf00511 = L.marker(\n                [28.57325457, -80.64689529],\n                {}\n            ).addTo(feature_group_27ab7f441f301fa9cdb9fdce0d010db8);\n        \n    \n            var icon_e245d91bddccb33336fd5dbf9d3c91a8 = L.AwesomeMarkers.icon(\n                {&quot;extraClasses&quot;: &quot;fa-rotate-0&quot;, &quot;icon&quot;: &quot;info-sign&quot;, &quot;iconColor&quot;: &quot;white&quot;, &quot;markerColor&quot;: &quot;green&quot;, &quot;prefix&quot;: &quot;glyphicon&quot;}\n            );\n            marker_608b59acc6204d44fa3e249eadf00511.setIcon(icon_e245d91bddccb33336fd5dbf9d3c91a8);\n        \n    \n            marker_608b59acc6204d44fa3e249eadf00511.bindTooltip(\n                `&lt;div&gt;\n                     1\n                 &lt;/div&gt;`,\n                {&quot;sticky&quot;: true}\n            );\n        \n    \n            var marker_8ee9e2d535027c51f8a584bde69da058 = L.marker(\n                [28.57325457, -80.64689529],\n                {}\n            ).addTo(feature_group_27ab7f441f301fa9cdb9fdce0d010db8);\n        \n    \n            var icon_e7348ca88c39237bbcbec66a357621f5 = L.AwesomeMarkers.icon(\n                {&quot;extraClasses&quot;: &quot;fa-rotate-0&quot;, &quot;icon&quot;: &quot;info-sign&quot;, &quot;iconColor&quot;: &quot;white&quot;, &quot;markerColor&quot;: &quot;red&quot;, &quot;prefix&quot;: &quot;glyphicon&quot;}\n            );\n            marker_8ee9e2d535027c51f8a584bde69da058.setIcon(icon_e7348ca88c39237bbcbec66a357621f5);\n        \n    \n            marker_8ee9e2d535027c51f8a584bde69da058.bindTooltip(\n                `&lt;div&gt;\n                     0\n                 &lt;/div&gt;`,\n                {&quot;sticky&quot;: true}\n            );\n        \n    \n            var marker_8f354ffa390298cd73ec245604229bbd = L.marker(\n                [28.57325457, -80.64689529],\n                {}\n            ).addTo(feature_group_27ab7f441f301fa9cdb9fdce0d010db8);\n        \n    \n            var icon_81fc1633dc0934a1d15aacf26116d5f5 = L.AwesomeMarkers.icon(\n                {&quot;extraClasses&quot;: &quot;fa-rotate-0&quot;, &quot;icon&quot;: &quot;info-sign&quot;, &quot;iconColor&quot;: &quot;white&quot;, &quot;markerColor&quot;: &quot;green&quot;, &quot;prefix&quot;: &quot;glyphicon&quot;}\n            );\n            marker_8f354ffa390298cd73ec245604229bbd.setIcon(icon_81fc1633dc0934a1d15aacf26116d5f5);\n        \n    \n            marker_8f354ffa390298cd73ec245604229bbd.bindTooltip(\n                `&lt;div&gt;\n                     1\n                 &lt;/div&gt;`,\n                {&quot;sticky&quot;: true}\n            );\n        \n    \n            var marker_c747e0b3da59594b8b08c9bbfcfc0a07 = L.marker(\n                [28.57325457, -80.64689529],\n                {}\n            ).addTo(feature_group_27ab7f441f301fa9cdb9fdce0d010db8);\n        \n    \n            var icon_69464fa4065fb1b904e21bc5227497a4 = L.AwesomeMarkers.icon(\n                {&quot;extraClasses&quot;: &quot;fa-rotate-0&quot;, &quot;icon&quot;: &quot;info-sign&quot;, &quot;iconColor&quot;: &quot;white&quot;, &quot;markerColor&quot;: &quot;green&quot;, &quot;prefix&quot;: &quot;glyphicon&quot;}\n            );\n            marker_c747e0b3da59594b8b08c9bbfcfc0a07.setIcon(icon_69464fa4065fb1b904e21bc5227497a4);\n        \n    \n            marker_c747e0b3da59594b8b08c9bbfcfc0a07.bindTooltip(\n                `&lt;div&gt;\n                     1\n                 &lt;/div&gt;`,\n                {&quot;sticky&quot;: true}\n            );\n        \n    \n            var marker_8b4e59c3948321d772ff7841862547f4 = L.marker(\n                [28.57325457, -80.64689529],\n                {}\n            ).addTo(feature_group_27ab7f441f301fa9cdb9fdce0d010db8);\n        \n    \n            var icon_5215bb6cf0baada977c8ec3ccbf1ee14 = L.AwesomeMarkers.icon(\n                {&quot;extraClasses&quot;: &quot;fa-rotate-0&quot;, &quot;icon&quot;: &quot;info-sign&quot;, &quot;iconColor&quot;: &quot;white&quot;, &quot;markerColor&quot;: &quot;green&quot;, &quot;prefix&quot;: &quot;glyphicon&quot;}\n            );\n            marker_8b4e59c3948321d772ff7841862547f4.setIcon(icon_5215bb6cf0baada977c8ec3ccbf1ee14);\n        \n    \n            marker_8b4e59c3948321d772ff7841862547f4.bindTooltip(\n                `&lt;div&gt;\n                     1\n                 &lt;/div&gt;`,\n                {&quot;sticky&quot;: true}\n            );\n        \n    \n            var marker_e94ea16bebf8a4b64a47bee385665b05 = L.marker(\n                [28.57325457, -80.64689529],\n                {}\n            ).addTo(feature_group_27ab7f441f301fa9cdb9fdce0d010db8);\n        \n    \n            var icon_234dd6dbe6d01f2648a484645e02d792 = L.AwesomeMarkers.icon(\n                {&quot;extraClasses&quot;: &quot;fa-rotate-0&quot;, &quot;icon&quot;: &quot;info-sign&quot;, &quot;iconColor&quot;: &quot;white&quot;, &quot;markerColor&quot;: &quot;green&quot;, &quot;prefix&quot;: &quot;glyphicon&quot;}\n            );\n            marker_e94ea16bebf8a4b64a47bee385665b05.setIcon(icon_234dd6dbe6d01f2648a484645e02d792);\n        \n    \n            marker_e94ea16bebf8a4b64a47bee385665b05.bindTooltip(\n                `&lt;div&gt;\n                     1\n                 &lt;/div&gt;`,\n                {&quot;sticky&quot;: true}\n            );\n        \n    \n            var marker_03ba99164aef9f951e789bd46236d758 = L.marker(\n                [28.57325457, -80.64689529],\n                {}\n            ).addTo(feature_group_27ab7f441f301fa9cdb9fdce0d010db8);\n        \n    \n            var icon_cf58d0efd4f2e5a2d5bd64750ca032fe = L.AwesomeMarkers.icon(\n                {&quot;extraClasses&quot;: &quot;fa-rotate-0&quot;, &quot;icon&quot;: &quot;info-sign&quot;, &quot;iconColor&quot;: &quot;white&quot;, &quot;markerColor&quot;: &quot;green&quot;, &quot;prefix&quot;: &quot;glyphicon&quot;}\n            );\n            marker_03ba99164aef9f951e789bd46236d758.setIcon(icon_cf58d0efd4f2e5a2d5bd64750ca032fe);\n        \n    \n            marker_03ba99164aef9f951e789bd46236d758.bindTooltip(\n                `&lt;div&gt;\n                     1\n                 &lt;/div&gt;`,\n                {&quot;sticky&quot;: true}\n            );\n        \n    \n            var feature_group_3ca0748178cae725f1dc7aac64d5f2e6 = L.featureGroup(\n                {}\n            ).addTo(map_dea5babf23fb5339e48dc19119e0e21c);\n        \n    \n            var marker_a5c41218da0370553cde3cbb2a7c1231 = L.marker(\n                [34.63283416, -120.6107455],\n                {}\n            ).addTo(feature_group_3ca0748178cae725f1dc7aac64d5f2e6);\n        \n    \n            var icon_7f6868a2e4da39e72f28ada6e3de279c = L.AwesomeMarkers.icon(\n                {&quot;extraClasses&quot;: &quot;fa-rotate-0&quot;, &quot;icon&quot;: &quot;info-sign&quot;, &quot;iconColor&quot;: &quot;white&quot;, &quot;markerColor&quot;: &quot;red&quot;, &quot;prefix&quot;: &quot;glyphicon&quot;}\n            );\n            marker_a5c41218da0370553cde3cbb2a7c1231.setIcon(icon_7f6868a2e4da39e72f28ada6e3de279c);\n        \n    \n            marker_a5c41218da0370553cde3cbb2a7c1231.bindTooltip(\n                `&lt;div&gt;\n                     0\n                 &lt;/div&gt;`,\n                {&quot;sticky&quot;: true}\n            );\n        \n    \n            var marker_53e7fc06c8706270b4f0ebf843293965 = L.marker(\n                [34.63283416, -120.6107455],\n                {}\n            ).addTo(feature_group_3ca0748178cae725f1dc7aac64d5f2e6);\n        \n    \n            var icon_a69de02f3b0bac6392de585413c2b558 = L.AwesomeMarkers.icon(\n                {&quot;extraClasses&quot;: &quot;fa-rotate-0&quot;, &quot;icon&quot;: &quot;info-sign&quot;, &quot;iconColor&quot;: &quot;white&quot;, &quot;markerColor&quot;: &quot;red&quot;, &quot;prefix&quot;: &quot;glyphicon&quot;}\n            );\n            marker_53e7fc06c8706270b4f0ebf843293965.setIcon(icon_a69de02f3b0bac6392de585413c2b558);\n        \n    \n            marker_53e7fc06c8706270b4f0ebf843293965.bindTooltip(\n                `&lt;div&gt;\n                     0\n                 &lt;/div&gt;`,\n                {&quot;sticky&quot;: true}\n            );\n        \n    \n            var marker_5e100ed9fc618aeaf1bb2c556f0f3002 = L.marker(\n                [34.63283416, -120.6107455],\n                {}\n            ).addTo(feature_group_3ca0748178cae725f1dc7aac64d5f2e6);\n        \n    \n            var icon_da54856e073a4218a6d6da18edbfbba0 = L.AwesomeMarkers.icon(\n                {&quot;extraClasses&quot;: &quot;fa-rotate-0&quot;, &quot;icon&quot;: &quot;info-sign&quot;, &quot;iconColor&quot;: &quot;white&quot;, &quot;markerColor&quot;: &quot;green&quot;, &quot;prefix&quot;: &quot;glyphicon&quot;}\n            );\n            marker_5e100ed9fc618aeaf1bb2c556f0f3002.setIcon(icon_da54856e073a4218a6d6da18edbfbba0);\n        \n    \n            marker_5e100ed9fc618aeaf1bb2c556f0f3002.bindTooltip(\n                `&lt;div&gt;\n                     1\n                 &lt;/div&gt;`,\n                {&quot;sticky&quot;: true}\n            );\n        \n    \n            var marker_fa62bb4a472f5c305920b9f4529d3264 = L.marker(\n                [34.63283416, -120.6107455],\n                {}\n            ).addTo(feature_group_3ca0748178cae725f1dc7aac64d5f2e6);\n        \n    \n            var icon_dd517c29bf35390834c29cd6a4d8e8a1 = L.AwesomeMarkers.icon(\n                {&quot;extraClasses&quot;: &quot;fa-rotate-0&quot;, &quot;icon&quot;: &quot;info-sign&quot;, &quot;iconColor&quot;: &quot;white&quot;, &quot;markerColor&quot;: &quot;green&quot;, &quot;prefix&quot;: &quot;glyphicon&quot;}\n            );\n            marker_fa62bb4a472f5c305920b9f4529d3264.setIcon(icon_dd517c29bf35390834c29cd6a4d8e8a1);\n        \n    \n            marker_fa62bb4a472f5c305920b9f4529d3264.bindTooltip(\n                `&lt;div&gt;\n                     1\n                 &lt;/div&gt;`,\n                {&quot;sticky&quot;: true}\n            );\n        \n    \n            var marker_470f27456c3554e8c7f636a1f4757423 = L.marker(\n                [34.63283416, -120.6107455],\n                {}\n            ).addTo(feature_group_3ca0748178cae725f1dc7aac64d5f2e6);\n        \n    \n            var icon_ee100c1656d5dbb8ba424e3f57000c2b = L.AwesomeMarkers.icon(\n                {&quot;extraClasses&quot;: &quot;fa-rotate-0&quot;, &quot;icon&quot;: &quot;info-sign&quot;, &quot;iconColor&quot;: &quot;white&quot;, &quot;markerColor&quot;: &quot;green&quot;, &quot;prefix&quot;: &quot;glyphicon&quot;}\n            );\n            marker_470f27456c3554e8c7f636a1f4757423.setIcon(icon_ee100c1656d5dbb8ba424e3f57000c2b);\n        \n    \n            marker_470f27456c3554e8c7f636a1f4757423.bindTooltip(\n                `&lt;div&gt;\n                     1\n                 &lt;/div&gt;`,\n                {&quot;sticky&quot;: true}\n            );\n        \n    \n            var marker_68ce957579804ed580303d57689223ed = L.marker(\n                [34.63283416, -120.6107455],\n                {}\n            ).addTo(feature_group_3ca0748178cae725f1dc7aac64d5f2e6);\n        \n    \n            var icon_7925a86e60cfafc6e79db2ff86962c43 = L.AwesomeMarkers.icon(\n                {&quot;extraClasses&quot;: &quot;fa-rotate-0&quot;, &quot;icon&quot;: &quot;info-sign&quot;, &quot;iconColor&quot;: &quot;white&quot;, &quot;markerColor&quot;: &quot;green&quot;, &quot;prefix&quot;: &quot;glyphicon&quot;}\n            );\n            marker_68ce957579804ed580303d57689223ed.setIcon(icon_7925a86e60cfafc6e79db2ff86962c43);\n        \n    \n            marker_68ce957579804ed580303d57689223ed.bindTooltip(\n                `&lt;div&gt;\n                     1\n                 &lt;/div&gt;`,\n                {&quot;sticky&quot;: true}\n            );\n        \n    \n            var marker_5522ac27e1ab9f8d0c20481bc250d5ba = L.marker(\n                [34.63283416, -120.6107455],\n                {}\n            ).addTo(feature_group_3ca0748178cae725f1dc7aac64d5f2e6);\n        \n    \n            var icon_ed224c4207f4ce675a3bd1ff4dbe8b62 = L.AwesomeMarkers.icon(\n                {&quot;extraClasses&quot;: &quot;fa-rotate-0&quot;, &quot;icon&quot;: &quot;info-sign&quot;, &quot;iconColor&quot;: &quot;white&quot;, &quot;markerColor&quot;: &quot;red&quot;, &quot;prefix&quot;: &quot;glyphicon&quot;}\n            );\n            marker_5522ac27e1ab9f8d0c20481bc250d5ba.setIcon(icon_ed224c4207f4ce675a3bd1ff4dbe8b62);\n        \n    \n            marker_5522ac27e1ab9f8d0c20481bc250d5ba.bindTooltip(\n                `&lt;div&gt;\n                     0\n                 &lt;/div&gt;`,\n                {&quot;sticky&quot;: true}\n            );\n        \n    \n            var marker_f1e8ae039d8cc6497ad12b771bb15347 = L.marker(\n                [34.63283416, -120.6107455],\n                {}\n            ).addTo(feature_group_3ca0748178cae725f1dc7aac64d5f2e6);\n        \n    \n            var icon_1b1abdbb74dd77a713ddfe5e05cb44b5 = L.AwesomeMarkers.icon(\n                {&quot;extraClasses&quot;: &quot;fa-rotate-0&quot;, &quot;icon&quot;: &quot;info-sign&quot;, &quot;iconColor&quot;: &quot;white&quot;, &quot;markerColor&quot;: &quot;red&quot;, &quot;prefix&quot;: &quot;glyphicon&quot;}\n            );\n            marker_f1e8ae039d8cc6497ad12b771bb15347.setIcon(icon_1b1abdbb74dd77a713ddfe5e05cb44b5);\n        \n    \n            marker_f1e8ae039d8cc6497ad12b771bb15347.bindTooltip(\n                `&lt;div&gt;\n                     0\n                 &lt;/div&gt;`,\n                {&quot;sticky&quot;: true}\n            );\n        \n    \n            var marker_7a69b0ace1e68d30bf58bc1f41f3ba0f = L.marker(\n                [34.63283416, -120.6107455],\n                {}\n            ).addTo(feature_group_3ca0748178cae725f1dc7aac64d5f2e6);\n        \n    \n            var icon_661f981bbfd37bd04880fb422ef78f15 = L.AwesomeMarkers.icon(\n                {&quot;extraClasses&quot;: &quot;fa-rotate-0&quot;, &quot;icon&quot;: &quot;info-sign&quot;, &quot;iconColor&quot;: &quot;white&quot;, &quot;markerColor&quot;: &quot;red&quot;, &quot;prefix&quot;: &quot;glyphicon&quot;}\n            );\n            marker_7a69b0ace1e68d30bf58bc1f41f3ba0f.setIcon(icon_661f981bbfd37bd04880fb422ef78f15);\n        \n    \n            marker_7a69b0ace1e68d30bf58bc1f41f3ba0f.bindTooltip(\n                `&lt;div&gt;\n                     0\n                 &lt;/div&gt;`,\n                {&quot;sticky&quot;: true}\n            );\n        \n    \n            var marker_c184ce200fb30c1587104e499d0aa6cc = L.marker(\n                [34.63283416, -120.6107455],\n                {}\n            ).addTo(feature_group_3ca0748178cae725f1dc7aac64d5f2e6);\n        \n    \n            var icon_ad3f5b870c3fc91b783622c348a0ceb6 = L.AwesomeMarkers.icon(\n                {&quot;extraClasses&quot;: &quot;fa-rotate-0&quot;, &quot;icon&quot;: &quot;info-sign&quot;, &quot;iconColor&quot;: &quot;white&quot;, &quot;markerColor&quot;: &quot;red&quot;, &quot;prefix&quot;: &quot;glyphicon&quot;}\n            );\n            marker_c184ce200fb30c1587104e499d0aa6cc.setIcon(icon_ad3f5b870c3fc91b783622c348a0ceb6);\n        \n    \n            marker_c184ce200fb30c1587104e499d0aa6cc.bindTooltip(\n                `&lt;div&gt;\n                     0\n                 &lt;/div&gt;`,\n                {&quot;sticky&quot;: true}\n            );\n        \n    \n            var layer_control_c21c8491fcbd06e5107b8ced02ff4245 = {\n                base_layers : {\n                    &quot;openstreetmap&quot; : tile_layer_42dc356f8e639b20bde4a0a053e451db,\n                },\n                overlays :  {\n                    &quot;CCAFS LC-40&quot; : feature_group_715d492fb47890a3b6c8e69a53ddbfb2,\n                    &quot;CCAFS SLC-40&quot; : feature_group_df264acfc9b6e44677e793803677bbcd,\n                    &quot;KSC LC-39A&quot; : feature_group_27ab7f441f301fa9cdb9fdce0d010db8,\n                    &quot;VAFB SLC-4E&quot; : feature_group_3ca0748178cae725f1dc7aac64d5f2e6,\n                },\n            };\n            L.control.layers(\n                layer_control_c21c8491fcbd06e5107b8ced02ff4245.base_layers,\n                layer_control_c21c8491fcbd06e5107b8ced02ff4245.overlays,\n                {&quot;autoZIndex&quot;: true, &quot;collapsed&quot;: true, &quot;position&quot;: &quot;topright&quot;}\n            ).addTo(map_dea5babf23fb5339e48dc19119e0e21c);\n        \n&lt;/script&gt;\n&lt;/html&gt;\" style=\"position:absolute;width:100%;height:100%;left:0;top:0;border:none !important;\" allowfullscreen webkitallowfullscreen mozallowfullscreen></iframe></div></div>"
          },
          "metadata": {}
        }
      ]
    },
    {
      "cell_type": "code",
      "source": "spacex_df.head()",
      "metadata": {
        "trusted": true
      },
      "execution_count": 27,
      "outputs": [
        {
          "execution_count": 27,
          "output_type": "execute_result",
          "data": {
            "text/plain": "   Launch Site        Lat       Long  class\n0  CCAFS LC-40  28.562302 -80.577356      0\n1  CCAFS LC-40  28.562302 -80.577356      0\n2  CCAFS LC-40  28.562302 -80.577356      0\n3  CCAFS LC-40  28.562302 -80.577356      0\n4  CCAFS LC-40  28.562302 -80.577356      0",
            "text/html": "<div>\n<style scoped>\n    .dataframe tbody tr th:only-of-type {\n        vertical-align: middle;\n    }\n\n    .dataframe tbody tr th {\n        vertical-align: top;\n    }\n\n    .dataframe thead th {\n        text-align: right;\n    }\n</style>\n<table border=\"1\" class=\"dataframe\">\n  <thead>\n    <tr style=\"text-align: right;\">\n      <th></th>\n      <th>Launch Site</th>\n      <th>Lat</th>\n      <th>Long</th>\n      <th>class</th>\n    </tr>\n  </thead>\n  <tbody>\n    <tr>\n      <th>0</th>\n      <td>CCAFS LC-40</td>\n      <td>28.562302</td>\n      <td>-80.577356</td>\n      <td>0</td>\n    </tr>\n    <tr>\n      <th>1</th>\n      <td>CCAFS LC-40</td>\n      <td>28.562302</td>\n      <td>-80.577356</td>\n      <td>0</td>\n    </tr>\n    <tr>\n      <th>2</th>\n      <td>CCAFS LC-40</td>\n      <td>28.562302</td>\n      <td>-80.577356</td>\n      <td>0</td>\n    </tr>\n    <tr>\n      <th>3</th>\n      <td>CCAFS LC-40</td>\n      <td>28.562302</td>\n      <td>-80.577356</td>\n      <td>0</td>\n    </tr>\n    <tr>\n      <th>4</th>\n      <td>CCAFS LC-40</td>\n      <td>28.562302</td>\n      <td>-80.577356</td>\n      <td>0</td>\n    </tr>\n  </tbody>\n</table>\n</div>"
          },
          "metadata": {}
        }
      ]
    },
    {
      "cell_type": "markdown",
      "source": "Next, let's try to enhance the map by adding the launch outcomes for each site, and see which sites have high success rates.\nRecall that data frame spacex_df has detailed launch records, and the `class` column indicates if this launch was successful or not\n",
      "metadata": {}
    },
    {
      "cell_type": "code",
      "source": "spacex_df.tail(10)",
      "metadata": {
        "trusted": true
      },
      "execution_count": 11,
      "outputs": [
        {
          "execution_count": 11,
          "output_type": "execute_result",
          "data": {
            "text/plain": "     Launch Site        Lat       Long  class\n46    KSC LC-39A  28.573255 -80.646895      1\n47    KSC LC-39A  28.573255 -80.646895      1\n48    KSC LC-39A  28.573255 -80.646895      1\n49  CCAFS SLC-40  28.563197 -80.576820      1\n50  CCAFS SLC-40  28.563197 -80.576820      1\n51  CCAFS SLC-40  28.563197 -80.576820      0\n52  CCAFS SLC-40  28.563197 -80.576820      0\n53  CCAFS SLC-40  28.563197 -80.576820      0\n54  CCAFS SLC-40  28.563197 -80.576820      1\n55  CCAFS SLC-40  28.563197 -80.576820      0",
            "text/html": "<div>\n<style scoped>\n    .dataframe tbody tr th:only-of-type {\n        vertical-align: middle;\n    }\n\n    .dataframe tbody tr th {\n        vertical-align: top;\n    }\n\n    .dataframe thead th {\n        text-align: right;\n    }\n</style>\n<table border=\"1\" class=\"dataframe\">\n  <thead>\n    <tr style=\"text-align: right;\">\n      <th></th>\n      <th>Launch Site</th>\n      <th>Lat</th>\n      <th>Long</th>\n      <th>class</th>\n    </tr>\n  </thead>\n  <tbody>\n    <tr>\n      <th>46</th>\n      <td>KSC LC-39A</td>\n      <td>28.573255</td>\n      <td>-80.646895</td>\n      <td>1</td>\n    </tr>\n    <tr>\n      <th>47</th>\n      <td>KSC LC-39A</td>\n      <td>28.573255</td>\n      <td>-80.646895</td>\n      <td>1</td>\n    </tr>\n    <tr>\n      <th>48</th>\n      <td>KSC LC-39A</td>\n      <td>28.573255</td>\n      <td>-80.646895</td>\n      <td>1</td>\n    </tr>\n    <tr>\n      <th>49</th>\n      <td>CCAFS SLC-40</td>\n      <td>28.563197</td>\n      <td>-80.576820</td>\n      <td>1</td>\n    </tr>\n    <tr>\n      <th>50</th>\n      <td>CCAFS SLC-40</td>\n      <td>28.563197</td>\n      <td>-80.576820</td>\n      <td>1</td>\n    </tr>\n    <tr>\n      <th>51</th>\n      <td>CCAFS SLC-40</td>\n      <td>28.563197</td>\n      <td>-80.576820</td>\n      <td>0</td>\n    </tr>\n    <tr>\n      <th>52</th>\n      <td>CCAFS SLC-40</td>\n      <td>28.563197</td>\n      <td>-80.576820</td>\n      <td>0</td>\n    </tr>\n    <tr>\n      <th>53</th>\n      <td>CCAFS SLC-40</td>\n      <td>28.563197</td>\n      <td>-80.576820</td>\n      <td>0</td>\n    </tr>\n    <tr>\n      <th>54</th>\n      <td>CCAFS SLC-40</td>\n      <td>28.563197</td>\n      <td>-80.576820</td>\n      <td>1</td>\n    </tr>\n    <tr>\n      <th>55</th>\n      <td>CCAFS SLC-40</td>\n      <td>28.563197</td>\n      <td>-80.576820</td>\n      <td>0</td>\n    </tr>\n  </tbody>\n</table>\n</div>"
          },
          "metadata": {}
        }
      ]
    },
    {
      "cell_type": "markdown",
      "source": "Next, let's create markers for all launch records.\nIf a launch was successful `(class=1)`, then we use a green marker and if a launch was failed, we use a red marker `(class=0)`\n",
      "metadata": {}
    },
    {
      "cell_type": "markdown",
      "source": "Note that a launch only happens in one of the four launch sites, which means many launch records will have the exact same coordinate. Marker clusters can be a good way to simplify a map containing many markers having the same coordinate.\n",
      "metadata": {}
    },
    {
      "cell_type": "markdown",
      "source": "Let's first create a `MarkerCluster` object\n",
      "metadata": {}
    },
    {
      "cell_type": "code",
      "source": "marker_cluster = MarkerCluster()\n",
      "metadata": {
        "trusted": true
      },
      "execution_count": 12,
      "outputs": []
    },
    {
      "cell_type": "markdown",
      "source": "*TODO:* Create a new column in `launch_sites` dataframe called `marker_color` to store the marker colors based on the `class` value\n",
      "metadata": {}
    },
    {
      "cell_type": "code",
      "source": "\n# Apply a function to check the value of `class` column\n# If class=1, marker_color value will be green\n# If class=0, marker_color value will be red",
      "metadata": {
        "trusted": true
      },
      "execution_count": 13,
      "outputs": []
    },
    {
      "cell_type": "markdown",
      "source": "*TODO:* For each launch result in `spacex_df` data frame, add a `folium.Marker` to `marker_cluster`\n",
      "metadata": {}
    },
    {
      "cell_type": "code",
      "source": "# Add marker_cluster to current site_map\nsite_map.add_child(marker_cluster)\n\n# for each row in spacex_df data frame\n# create a Marker object with its coordinate\n# and customize the Marker's icon property to indicate if this launch was successed or failed, \n# e.g., icon=folium.Icon(color='white', icon_color=row['marker_color']\nfor index, record in spacex_df.iterrows():\n    # TODO: Create and add a Marker cluster to the site map\n    # marker = folium.Marker(...)\n    marker_cluster.add_child(marker)\n\nsite_map",
      "metadata": {
        "trusted": true
      },
      "execution_count": 14,
      "outputs": [
        {
          "execution_count": 14,
          "output_type": "execute_result",
          "data": {
            "text/plain": "<folium.folium.Map at 0x2c40268>",
            "text/html": "<div style=\"width:100%;\"><div style=\"position:relative;width:100%;height:0;padding-bottom:60%;\"><span style=\"color:#565656\">Make this Notebook Trusted to load map: File -> Trust Notebook</span><iframe srcdoc=\"&lt;!DOCTYPE html&gt;\n&lt;html&gt;\n&lt;head&gt;\n    \n    &lt;meta http-equiv=&quot;content-type&quot; content=&quot;text/html; charset=UTF-8&quot; /&gt;\n    \n        &lt;script&gt;\n            L_NO_TOUCH = false;\n            L_DISABLE_3D = false;\n        &lt;/script&gt;\n    \n    &lt;style&gt;html, body {width: 100%;height: 100%;margin: 0;padding: 0;}&lt;/style&gt;\n    &lt;style&gt;#map {position:absolute;top:0;bottom:0;right:0;left:0;}&lt;/style&gt;\n    &lt;script src=&quot;https://cdn.jsdelivr.net/npm/leaflet@1.9.3/dist/leaflet.js&quot;&gt;&lt;/script&gt;\n    &lt;script src=&quot;https://code.jquery.com/jquery-1.12.4.min.js&quot;&gt;&lt;/script&gt;\n    &lt;script src=&quot;https://cdn.jsdelivr.net/npm/bootstrap@5.2.2/dist/js/bootstrap.bundle.min.js&quot;&gt;&lt;/script&gt;\n    &lt;script src=&quot;https://cdnjs.cloudflare.com/ajax/libs/Leaflet.awesome-markers/2.0.2/leaflet.awesome-markers.js&quot;&gt;&lt;/script&gt;\n    &lt;link rel=&quot;stylesheet&quot; href=&quot;https://cdn.jsdelivr.net/npm/leaflet@1.9.3/dist/leaflet.css&quot;/&gt;\n    &lt;link rel=&quot;stylesheet&quot; href=&quot;https://cdn.jsdelivr.net/npm/bootstrap@5.2.2/dist/css/bootstrap.min.css&quot;/&gt;\n    &lt;link rel=&quot;stylesheet&quot; href=&quot;https://netdna.bootstrapcdn.com/bootstrap/3.0.0/css/bootstrap.min.css&quot;/&gt;\n    &lt;link rel=&quot;stylesheet&quot; href=&quot;https://cdn.jsdelivr.net/npm/@fortawesome/fontawesome-free@6.2.0/css/all.min.css&quot;/&gt;\n    &lt;link rel=&quot;stylesheet&quot; href=&quot;https://cdnjs.cloudflare.com/ajax/libs/Leaflet.awesome-markers/2.0.2/leaflet.awesome-markers.css&quot;/&gt;\n    &lt;link rel=&quot;stylesheet&quot; href=&quot;https://cdn.jsdelivr.net/gh/python-visualization/folium/folium/templates/leaflet.awesome.rotate.min.css&quot;/&gt;\n    \n            &lt;meta name=&quot;viewport&quot; content=&quot;width=device-width,\n                initial-scale=1.0, maximum-scale=1.0, user-scalable=no&quot; /&gt;\n            &lt;style&gt;\n                #map_7c710c5d86e543ea7f42a77441f44232 {\n                    position: relative;\n                    width: 100.0%;\n                    height: 100.0%;\n                    left: 0.0%;\n                    top: 0.0%;\n                }\n                .leaflet-container { font-size: 1rem; }\n            &lt;/style&gt;\n        \n    &lt;script src=&quot;https://cdnjs.cloudflare.com/ajax/libs/leaflet.markercluster/1.1.0/leaflet.markercluster.js&quot;&gt;&lt;/script&gt;\n    &lt;link rel=&quot;stylesheet&quot; href=&quot;https://cdnjs.cloudflare.com/ajax/libs/leaflet.markercluster/1.1.0/MarkerCluster.css&quot;/&gt;\n    &lt;link rel=&quot;stylesheet&quot; href=&quot;https://cdnjs.cloudflare.com/ajax/libs/leaflet.markercluster/1.1.0/MarkerCluster.Default.css&quot;/&gt;\n&lt;/head&gt;\n&lt;body&gt;\n    \n    \n            &lt;div class=&quot;folium-map&quot; id=&quot;map_7c710c5d86e543ea7f42a77441f44232&quot; &gt;&lt;/div&gt;\n        \n&lt;/body&gt;\n&lt;script&gt;\n    \n    \n            var map_7c710c5d86e543ea7f42a77441f44232 = L.map(\n                &quot;map_7c710c5d86e543ea7f42a77441f44232&quot;,\n                {\n                    center: [29.559684888503615, -95.0830971930759],\n                    crs: L.CRS.EPSG3857,\n                    zoom: 5,\n                    zoomControl: true,\n                    preferCanvas: false,\n                }\n            );\n\n            \n\n        \n    \n            var tile_layer_fb508ca03f8f2d377b382729e58d96e4 = L.tileLayer(\n                &quot;https://{s}.tile.openstreetmap.org/{z}/{x}/{y}.png&quot;,\n                {&quot;attribution&quot;: &quot;Data by \\u0026copy; \\u003ca target=\\&quot;_blank\\&quot; href=\\&quot;http://openstreetmap.org\\&quot;\\u003eOpenStreetMap\\u003c/a\\u003e, under \\u003ca target=\\&quot;_blank\\&quot; href=\\&quot;http://www.openstreetmap.org/copyright\\&quot;\\u003eODbL\\u003c/a\\u003e.&quot;, &quot;detectRetina&quot;: false, &quot;maxNativeZoom&quot;: 18, &quot;maxZoom&quot;: 18, &quot;minZoom&quot;: 0, &quot;noWrap&quot;: false, &quot;opacity&quot;: 1, &quot;subdomains&quot;: &quot;abc&quot;, &quot;tms&quot;: false}\n            ).addTo(map_7c710c5d86e543ea7f42a77441f44232);\n        \n    \n            var marker_cluster_08c5132f9d1eabbccc62be9a1110dfeb = L.markerClusterGroup(\n                {}\n            );\n            map_7c710c5d86e543ea7f42a77441f44232.addLayer(marker_cluster_08c5132f9d1eabbccc62be9a1110dfeb);\n        \n    \n            var marker_12342d8ddc5f4dcfbb8c77acf44844b4 = L.marker(\n                [29.559684888503615, -95.0830971930759],\n                {}\n            ).addTo(marker_cluster_08c5132f9d1eabbccc62be9a1110dfeb);\n        \n    \n            var div_icon_60f7bc5cb022116e50fac3bb7ed03f18 = L.divIcon({&quot;className&quot;: &quot;empty&quot;, &quot;html&quot;: &quot;\\u003cdiv style=\\&quot;font-size: 12; color:#d35400;\\&quot;\\u003e\\u003cb\\u003eNASA JSC\\u003c/b\\u003e\\u003c/div\\u003e&quot;, &quot;iconAnchor&quot;: [0, 0], &quot;iconSize&quot;: [20, 20]});\n            marker_12342d8ddc5f4dcfbb8c77acf44844b4.setIcon(div_icon_60f7bc5cb022116e50fac3bb7ed03f18);\n        \n&lt;/script&gt;\n&lt;/html&gt;\" style=\"position:absolute;width:100%;height:100%;left:0;top:0;border:none !important;\" allowfullscreen webkitallowfullscreen mozallowfullscreen></iframe></div></div>"
          },
          "metadata": {}
        }
      ]
    },
    {
      "cell_type": "markdown",
      "source": "Your updated map may look like the following screenshots:\n",
      "metadata": {}
    },
    {
      "cell_type": "markdown",
      "source": "<center>\n    <img src=\"https://cf-courses-data.s3.us.cloud-object-storage.appdomain.cloud/IBM-DS0321EN-SkillsNetwork/labs/module_3/images/launch_site_marker_cluster.png\">\n</center>\n",
      "metadata": {}
    },
    {
      "cell_type": "markdown",
      "source": "<center>\n    <img src=\"https://cf-courses-data.s3.us.cloud-object-storage.appdomain.cloud/IBM-DS0321EN-SkillsNetwork/labs/module_3/images/launch_site_marker_cluster_zoomed.png\">\n</center>\n",
      "metadata": {}
    },
    {
      "cell_type": "markdown",
      "source": "From the color-labeled markers in marker clusters, you should be able to easily identify which launch sites have relatively high success rates.\n",
      "metadata": {}
    },
    {
      "cell_type": "code",
      "source": "# TASK 3: Calculate the distances between a launch site to its proximities\n",
      "metadata": {
        "trusted": true
      },
      "execution_count": 15,
      "outputs": []
    },
    {
      "cell_type": "markdown",
      "source": "Next, we need to explore and analyze the proximities of launch sites.\n",
      "metadata": {}
    },
    {
      "cell_type": "markdown",
      "source": "Let's first add a `MousePosition` on the map to get coordinate for a mouse over a point on the map. As such, while you are exploring the map, you can easily find the coordinates of any points of interests (such as railway)\n",
      "metadata": {}
    },
    {
      "cell_type": "code",
      "source": "# Add Mouse Position to get the coordinate (Lat, Long) for a mouse over on the map\nformatter = \"function(num) {return L.Util.formatNum(num, 5);};\"\nmouse_position = MousePosition(\n    position='topright',\n    separator=' Long: ',\n    empty_string='NaN',\n    lng_first=False,\n    num_digits=20,\n    prefix='Lat:',\n    lat_formatter=formatter,\n    lng_formatter=formatter,\n)\n\nsite_map.add_child(mouse_position)\nsite_map",
      "metadata": {
        "trusted": true
      },
      "execution_count": 16,
      "outputs": [
        {
          "execution_count": 16,
          "output_type": "execute_result",
          "data": {
            "text/plain": "<folium.folium.Map at 0x2c40268>",
            "text/html": "<div style=\"width:100%;\"><div style=\"position:relative;width:100%;height:0;padding-bottom:60%;\"><span style=\"color:#565656\">Make this Notebook Trusted to load map: File -> Trust Notebook</span><iframe srcdoc=\"&lt;!DOCTYPE html&gt;\n&lt;html&gt;\n&lt;head&gt;\n    \n    &lt;meta http-equiv=&quot;content-type&quot; content=&quot;text/html; charset=UTF-8&quot; /&gt;\n    \n        &lt;script&gt;\n            L_NO_TOUCH = false;\n            L_DISABLE_3D = false;\n        &lt;/script&gt;\n    \n    &lt;style&gt;html, body {width: 100%;height: 100%;margin: 0;padding: 0;}&lt;/style&gt;\n    &lt;style&gt;#map {position:absolute;top:0;bottom:0;right:0;left:0;}&lt;/style&gt;\n    &lt;script src=&quot;https://cdn.jsdelivr.net/npm/leaflet@1.9.3/dist/leaflet.js&quot;&gt;&lt;/script&gt;\n    &lt;script src=&quot;https://code.jquery.com/jquery-1.12.4.min.js&quot;&gt;&lt;/script&gt;\n    &lt;script src=&quot;https://cdn.jsdelivr.net/npm/bootstrap@5.2.2/dist/js/bootstrap.bundle.min.js&quot;&gt;&lt;/script&gt;\n    &lt;script src=&quot;https://cdnjs.cloudflare.com/ajax/libs/Leaflet.awesome-markers/2.0.2/leaflet.awesome-markers.js&quot;&gt;&lt;/script&gt;\n    &lt;link rel=&quot;stylesheet&quot; href=&quot;https://cdn.jsdelivr.net/npm/leaflet@1.9.3/dist/leaflet.css&quot;/&gt;\n    &lt;link rel=&quot;stylesheet&quot; href=&quot;https://cdn.jsdelivr.net/npm/bootstrap@5.2.2/dist/css/bootstrap.min.css&quot;/&gt;\n    &lt;link rel=&quot;stylesheet&quot; href=&quot;https://netdna.bootstrapcdn.com/bootstrap/3.0.0/css/bootstrap.min.css&quot;/&gt;\n    &lt;link rel=&quot;stylesheet&quot; href=&quot;https://cdn.jsdelivr.net/npm/@fortawesome/fontawesome-free@6.2.0/css/all.min.css&quot;/&gt;\n    &lt;link rel=&quot;stylesheet&quot; href=&quot;https://cdnjs.cloudflare.com/ajax/libs/Leaflet.awesome-markers/2.0.2/leaflet.awesome-markers.css&quot;/&gt;\n    &lt;link rel=&quot;stylesheet&quot; href=&quot;https://cdn.jsdelivr.net/gh/python-visualization/folium/folium/templates/leaflet.awesome.rotate.min.css&quot;/&gt;\n    \n            &lt;meta name=&quot;viewport&quot; content=&quot;width=device-width,\n                initial-scale=1.0, maximum-scale=1.0, user-scalable=no&quot; /&gt;\n            &lt;style&gt;\n                #map_7c710c5d86e543ea7f42a77441f44232 {\n                    position: relative;\n                    width: 100.0%;\n                    height: 100.0%;\n                    left: 0.0%;\n                    top: 0.0%;\n                }\n                .leaflet-container { font-size: 1rem; }\n            &lt;/style&gt;\n        \n    &lt;script src=&quot;https://cdnjs.cloudflare.com/ajax/libs/leaflet.markercluster/1.1.0/leaflet.markercluster.js&quot;&gt;&lt;/script&gt;\n    &lt;link rel=&quot;stylesheet&quot; href=&quot;https://cdnjs.cloudflare.com/ajax/libs/leaflet.markercluster/1.1.0/MarkerCluster.css&quot;/&gt;\n    &lt;link rel=&quot;stylesheet&quot; href=&quot;https://cdnjs.cloudflare.com/ajax/libs/leaflet.markercluster/1.1.0/MarkerCluster.Default.css&quot;/&gt;\n    &lt;script src=&quot;https://cdn.jsdelivr.net/gh/ardhi/Leaflet.MousePosition/src/L.Control.MousePosition.min.js&quot;&gt;&lt;/script&gt;\n    &lt;link rel=&quot;stylesheet&quot; href=&quot;https://cdn.jsdelivr.net/gh/ardhi/Leaflet.MousePosition/src/L.Control.MousePosition.min.css&quot;/&gt;\n&lt;/head&gt;\n&lt;body&gt;\n    \n    \n            &lt;div class=&quot;folium-map&quot; id=&quot;map_7c710c5d86e543ea7f42a77441f44232&quot; &gt;&lt;/div&gt;\n        \n&lt;/body&gt;\n&lt;script&gt;\n    \n    \n            var map_7c710c5d86e543ea7f42a77441f44232 = L.map(\n                &quot;map_7c710c5d86e543ea7f42a77441f44232&quot;,\n                {\n                    center: [29.559684888503615, -95.0830971930759],\n                    crs: L.CRS.EPSG3857,\n                    zoom: 5,\n                    zoomControl: true,\n                    preferCanvas: false,\n                }\n            );\n\n            \n\n        \n    \n            var tile_layer_fb508ca03f8f2d377b382729e58d96e4 = L.tileLayer(\n                &quot;https://{s}.tile.openstreetmap.org/{z}/{x}/{y}.png&quot;,\n                {&quot;attribution&quot;: &quot;Data by \\u0026copy; \\u003ca target=\\&quot;_blank\\&quot; href=\\&quot;http://openstreetmap.org\\&quot;\\u003eOpenStreetMap\\u003c/a\\u003e, under \\u003ca target=\\&quot;_blank\\&quot; href=\\&quot;http://www.openstreetmap.org/copyright\\&quot;\\u003eODbL\\u003c/a\\u003e.&quot;, &quot;detectRetina&quot;: false, &quot;maxNativeZoom&quot;: 18, &quot;maxZoom&quot;: 18, &quot;minZoom&quot;: 0, &quot;noWrap&quot;: false, &quot;opacity&quot;: 1, &quot;subdomains&quot;: &quot;abc&quot;, &quot;tms&quot;: false}\n            ).addTo(map_7c710c5d86e543ea7f42a77441f44232);\n        \n    \n            var marker_cluster_08c5132f9d1eabbccc62be9a1110dfeb = L.markerClusterGroup(\n                {}\n            );\n            map_7c710c5d86e543ea7f42a77441f44232.addLayer(marker_cluster_08c5132f9d1eabbccc62be9a1110dfeb);\n        \n    \n            var marker_12342d8ddc5f4dcfbb8c77acf44844b4 = L.marker(\n                [29.559684888503615, -95.0830971930759],\n                {}\n            ).addTo(marker_cluster_08c5132f9d1eabbccc62be9a1110dfeb);\n        \n    \n            var div_icon_60f7bc5cb022116e50fac3bb7ed03f18 = L.divIcon({&quot;className&quot;: &quot;empty&quot;, &quot;html&quot;: &quot;\\u003cdiv style=\\&quot;font-size: 12; color:#d35400;\\&quot;\\u003e\\u003cb\\u003eNASA JSC\\u003c/b\\u003e\\u003c/div\\u003e&quot;, &quot;iconAnchor&quot;: [0, 0], &quot;iconSize&quot;: [20, 20]});\n            marker_12342d8ddc5f4dcfbb8c77acf44844b4.setIcon(div_icon_60f7bc5cb022116e50fac3bb7ed03f18);\n        \n    \n            var mouse_position_a92c9a190769f81b5164f5b17b4104c2 = new L.Control.MousePosition(\n                {&quot;emptyString&quot;: &quot;NaN&quot;, &quot;lngFirst&quot;: false, &quot;numDigits&quot;: 20, &quot;position&quot;: &quot;topright&quot;, &quot;prefix&quot;: &quot;Lat:&quot;, &quot;separator&quot;: &quot; Long: &quot;}\n            );\n            mouse_position_a92c9a190769f81b5164f5b17b4104c2.options[&quot;latFormatter&quot;] =\n                function(num) {return L.Util.formatNum(num, 5);};;\n            mouse_position_a92c9a190769f81b5164f5b17b4104c2.options[&quot;lngFormatter&quot;] =\n                function(num) {return L.Util.formatNum(num, 5);};;\n            map_7c710c5d86e543ea7f42a77441f44232.addControl(mouse_position_a92c9a190769f81b5164f5b17b4104c2);\n        \n&lt;/script&gt;\n&lt;/html&gt;\" style=\"position:absolute;width:100%;height:100%;left:0;top:0;border:none !important;\" allowfullscreen webkitallowfullscreen mozallowfullscreen></iframe></div></div>"
          },
          "metadata": {}
        }
      ]
    },
    {
      "cell_type": "markdown",
      "source": "Now zoom in to a launch site and explore its proximity to see if you can easily find any railway, highway, coastline, etc. Move your mouse to these points and mark down their coordinates (shown on the top-left) in order to the distance to the launch site.\n",
      "metadata": {}
    },
    {
      "cell_type": "markdown",
      "source": "Now zoom in to a launch site and explore its proximity to see if you can easily find any railway, highway, coastline, etc. Move your mouse to these points and mark down their coordinates (shown on the top-left) in order to the distance to the launch site.\n",
      "metadata": {}
    },
    {
      "cell_type": "code",
      "source": "from math import sin, cos, sqrt, atan2, radians\n\ndef calculate_distance(lat1, lon1, lat2, lon2):\n    # approximate radius of earth in km\n    R = 6373.0\n\n    lat1 = radians(lat1)\n    lon1 = radians(lon1)\n    lat2 = radians(lat2)\n    lon2 = radians(lon2)\n\n    dlon = lon2 - lon1\n    dlat = lat2 - lat1\n\n    a = sin(dlat / 2)**2 + cos(lat1) * cos(lat2) * sin(dlon / 2)**2\n    c = 2 * atan2(sqrt(a), sqrt(1 - a))\n\n    distance = R * c\n    return distance",
      "metadata": {
        "trusted": true
      },
      "execution_count": 17,
      "outputs": []
    },
    {
      "cell_type": "markdown",
      "source": "*TODO:* Mark down a point on the closest coastline using MousePosition and calculate the distance between the coastline point and the launch site.\n",
      "metadata": {}
    },
    {
      "cell_type": "code",
      "source": "# find coordinate of the closet coastline\n# e.g.,: Lat: 28.56367  Lon: -80.57163\n# distance_coastline = calculate_distance(launch_site_lat, launch_site_lon, coastline_lat, coastline_lon)",
      "metadata": {
        "trusted": true
      },
      "execution_count": 18,
      "outputs": []
    },
    {
      "cell_type": "code",
      "source": "# Create and add a folium.Marker on your selected closest coastline point on the map\n# Display the distance between coastline point and launch site using the icon property \n# for example\n# distance_marker = folium.Marker(\n#    coordinate,\n#    icon=DivIcon(\n#        icon_size=(20,20),\n#        icon_anchor=(0,0),\n#        html='<div style=\"font-size: 12; color:#d35400;\"><b>%s</b></div>' % \"{:10.2f} KM\".format(distance),\n#        )\n#    )",
      "metadata": {
        "trusted": true
      },
      "execution_count": 19,
      "outputs": []
    },
    {
      "cell_type": "markdown",
      "source": "*TODO:* Draw a `PolyLine` between a launch site to the selected coastline point\n",
      "metadata": {}
    },
    {
      "cell_type": "code",
      "source": "# Create a `folium.PolyLine` object using the coastline coordinates and launch site coordinate\n# lines=folium.PolyLine(locations=coordinates, weight=1)\nsite_map.add_child(lines)",
      "metadata": {
        "trusted": true
      },
      "execution_count": 20,
      "outputs": [
        {
          "ename": "<class 'NameError'>",
          "evalue": "name 'lines' is not defined",
          "traceback": [
            "\u001b[0;31m---------------------------------------------------------------------------\u001b[0m",
            "\u001b[0;31mNameError\u001b[0m                                 Traceback (most recent call last)",
            "Cell \u001b[0;32mIn[20], line 3\u001b[0m\n\u001b[1;32m      1\u001b[0m \u001b[38;5;66;03m# Create a `folium.PolyLine` object using the coastline coordinates and launch site coordinate\u001b[39;00m\n\u001b[1;32m      2\u001b[0m \u001b[38;5;66;03m# lines=folium.PolyLine(locations=coordinates, weight=1)\u001b[39;00m\n\u001b[0;32m----> 3\u001b[0m site_map\u001b[38;5;241m.\u001b[39madd_child(\u001b[43mlines\u001b[49m)\n",
            "\u001b[0;31mNameError\u001b[0m: name 'lines' is not defined"
          ],
          "output_type": "error"
        }
      ]
    },
    {
      "cell_type": "markdown",
      "source": "Your updated map with distance line should look like the following screenshot:\n",
      "metadata": {}
    },
    {
      "cell_type": "markdown",
      "source": "<center>\n    <img src=\"https://cf-courses-data.s3.us.cloud-object-storage.appdomain.cloud/IBM-DS0321EN-SkillsNetwork/labs/module_3/images/launch_site_marker_distance.png\">\n</center>\n",
      "metadata": {}
    },
    {
      "cell_type": "markdown",
      "source": "*TODO:* Similarly, you can draw a line betwee a launch site to its closest city, railway, highway, etc. You need to use `MousePosition` to find the their coordinates on the map first\n",
      "metadata": {}
    },
    {
      "cell_type": "markdown",
      "source": "A railway map symbol may look like this:\n",
      "metadata": {}
    },
    {
      "cell_type": "markdown",
      "source": "<center>\n    <img src=\"https://cf-courses-data.s3.us.cloud-object-storage.appdomain.cloud/IBM-DS0321EN-SkillsNetwork/labs/module_3/images/railway.png\">\n</center>\n",
      "metadata": {}
    },
    {
      "cell_type": "markdown",
      "source": "A highway map symbol may look like this:\n",
      "metadata": {}
    },
    {
      "cell_type": "markdown",
      "source": "<center>\n    <img src=\"https://cf-courses-data.s3.us.cloud-object-storage.appdomain.cloud/IBM-DS0321EN-SkillsNetwork/labs/module_3/images/highway.png\">\n</center>\n",
      "metadata": {}
    },
    {
      "cell_type": "markdown",
      "source": "A city map symbol may look like this:\n",
      "metadata": {}
    },
    {
      "cell_type": "markdown",
      "source": "<center>\n    <img src=\"https://cf-courses-data.s3.us.cloud-object-storage.appdomain.cloud/IBM-DS0321EN-SkillsNetwork/labs/module_3/images/city.png\">\n</center>\n",
      "metadata": {}
    },
    {
      "cell_type": "code",
      "source": "# Create a marker with distance to a closest city, railway, highway, etc.\n# Draw a line between the marker to the launch site\n",
      "metadata": {
        "trusted": true
      },
      "execution_count": 21,
      "outputs": []
    },
    {
      "cell_type": "code",
      "source": "",
      "metadata": {},
      "execution_count": null,
      "outputs": []
    },
    {
      "cell_type": "code",
      "source": "",
      "metadata": {},
      "execution_count": null,
      "outputs": []
    },
    {
      "cell_type": "markdown",
      "source": "After you plot distance lines to the proximities, you can answer the following questions easily:\n\n*   Are launch sites in close proximity to railways?\n*   Are launch sites in close proximity to highways?\n*   Are launch sites in close proximity to coastline?\n*   Do launch sites keep certain distance away from cities?\n\nAlso please try to explain your findings.\n",
      "metadata": {}
    },
    {
      "cell_type": "markdown",
      "source": "# Next Steps:\n\nNow you have discovered many interesting insights related to the launch sites' location using folium, in a very interactive way. Next, you will need to build a dashboard using Ploty Dash on detailed launch records.\n",
      "metadata": {}
    },
    {
      "cell_type": "markdown",
      "source": "## Authors\n",
      "metadata": {}
    },
    {
      "cell_type": "markdown",
      "source": "[Pratiksha Verma](https://www.linkedin.com/in/pratiksha-verma-6487561b1/?utm_medium=Exinfluencer&utm_source=Exinfluencer&utm_content=000026UJ&utm_term=10006555&utm_id=NA-SkillsNetwork-Channel-SkillsNetworkCoursesIBMDS0321ENSkillsNetwork865-2022-01-01)\n",
      "metadata": {}
    },
    {
      "cell_type": "markdown",
      "source": "## Change Log\n",
      "metadata": {}
    },
    {
      "cell_type": "markdown",
      "source": "| Date (YYYY-MM-DD) | Version | Changed By      | Change Description      |\n| ----------------- | ------- | -------------   | ----------------------- |\n| 2022-11-09        | 1.0     | Pratiksha Verma | Converted initial version to Jupyterlite|\n",
      "metadata": {}
    },
    {
      "cell_type": "markdown",
      "source": "### <h3 align=\"center\"> IBM Corporation 2022. All rights reserved. <h3/>\n",
      "metadata": {}
    }
  ]
}